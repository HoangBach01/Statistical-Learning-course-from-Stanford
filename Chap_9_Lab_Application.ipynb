{
 "metadata": {
  "language_info": {
   "codemirror_mode": {
    "name": "ipython",
    "version": 3
   },
   "file_extension": ".py",
   "mimetype": "text/x-python",
   "name": "python",
   "nbconvert_exporter": "python",
   "pygments_lexer": "ipython3",
   "version": "3.7.7-final"
  },
  "orig_nbformat": 2,
  "kernelspec": {
   "name": "Python 3.7.7 64-bit",
   "display_name": "Python 3.7.7 64-bit",
   "metadata": {
    "interpreter": {
     "hash": "0d8bca8ec97c097c371db1b56209bb3af580e9a9345b8f0104eadaeed7f26ccc"
    }
   }
  }
 },
 "nbformat": 4,
 "nbformat_minor": 2,
 "cells": [
  {
   "cell_type": "code",
   "execution_count": 1,
   "metadata": {},
   "outputs": [],
   "source": [
    "import numpy as np\n",
    "import pandas as pd\n",
    "import matplotlib as mpl\n",
    "import matplotlib.pyplot as plt\n",
    "import seaborn as sb\n",
    "%matplotlib inline\n",
    "from sklearn.model_selection import train_test_split, KFold, cross_val_score, cross_validate, GridSearchCV\n",
    "from sklearn.svm import SVC\n",
    "from sklearn.metrics import confusion_matrix, auc, roc_curve, classification_report"
   ]
  },
  {
   "cell_type": "markdown",
   "metadata": {},
   "source": [
    "## Application to Gene Expression Data"
   ]
  },
  {
   "cell_type": "code",
   "execution_count": 2,
   "metadata": {},
   "outputs": [],
   "source": [
    "data_x_train = pd.read_csv('data/Khanxtrain.csv')\n",
    "data_x_test = pd.read_csv('data/Khanxtest.csv')\n",
    "data_y_train = pd.read_csv('data/Khanytrain.csv')\n",
    "data_y_test = pd.read_csv('data/Khanytest.csv')\n",
    "X_train, X_test = data_x_train.iloc[:,1:], data_x_test.iloc[:,1:]\n",
    "y_train, y_test = data_y_train.iloc[:,1:], data_y_test.iloc[:,1:]"
   ]
  },
  {
   "cell_type": "code",
   "execution_count": 3,
   "metadata": {},
   "outputs": [
    {
     "output_type": "execute_result",
     "data": {
      "text/plain": [
       "1.0"
      ]
     },
     "metadata": {},
     "execution_count": 3
    }
   ],
   "source": [
    "svc = SVC(C=10, kernel='linear')\n",
    "svc.fit(X_train, y_train)\n",
    "svc.score(X_train, y_train)"
   ]
  },
  {
   "cell_type": "code",
   "execution_count": 4,
   "metadata": {},
   "outputs": [
    {
     "output_type": "stream",
     "name": "stdout",
     "text": [
      "Accuracy: 0.9000\n\n   Pred 1  2  3  4\n1       3  0  0  0\n2       0  6  0  0\n3       0  2  4  0\n4       0  0  0  5\n\n              precision    recall  f1-score   support\n\n           1       1.00      1.00      1.00         3\n           2       0.75      1.00      0.86         6\n           3       1.00      0.67      0.80         6\n           4       1.00      1.00      1.00         5\n\n    accuracy                           0.90        20\n   macro avg       0.94      0.92      0.91        20\nweighted avg       0.93      0.90      0.90        20\n\n"
     ]
    }
   ],
   "source": [
    "# Calculate test error on test set\n",
    "y_pred = svc.predict(X_test)\n",
    "matrix = confusion_matrix(y_test, y_pred)\n",
    "clf_pred_result = pd.DataFrame(matrix, index=svc.classes_, columns=['Pred 1', 2, 3, 4])\n",
    "\n",
    "# Print result\n",
    "print('Accuracy: {:.4f}'.format(np.diagonal(matrix).sum()/(matrix.sum())))\n",
    "print('')\n",
    "print(clf_pred_result)\n",
    "print('')\n",
    "print(classification_report(y_test, y_pred))"
   ]
  },
  {
   "cell_type": "markdown",
   "metadata": {},
   "source": [
    "## Application to Handwritten Letter Data"
   ]
  },
  {
   "cell_type": "code",
   "execution_count": 5,
   "metadata": {},
   "outputs": [],
   "source": [
    "X_train = pd.read_csv('data/optdigits.tra', header=None)\n",
    "y_train = X_train[64]\n",
    "X_train.drop(columns=64, inplace=True)\n",
    "\n",
    "X_test = pd.read_csv('data/optdigits.tes', header=None)\n",
    "y_test = X_test[64]\n",
    "X_test.drop(columns=64, inplace=True)"
   ]
  },
  {
   "cell_type": "code",
   "execution_count": 6,
   "metadata": {},
   "outputs": [
    {
     "output_type": "stream",
     "name": "stdout",
     "text": [
      "(3823, 64)\n(1797, 64)\n"
     ]
    }
   ],
   "source": [
    "print(X_train.shape)\n",
    "print(X_test.shape)"
   ]
  },
  {
   "cell_type": "code",
   "execution_count": 7,
   "metadata": {},
   "outputs": [
    {
     "output_type": "display_data",
     "data": {
      "text/plain": "<Figure size 432x288 with 1 Axes>",
      "image/svg+xml": "<?xml version=\"1.0\" encoding=\"utf-8\" standalone=\"no\"?>\n<!DOCTYPE svg PUBLIC \"-//W3C//DTD SVG 1.1//EN\"\n  \"http://www.w3.org/Graphics/SVG/1.1/DTD/svg11.dtd\">\n<!-- Created with matplotlib (https://matplotlib.org/) -->\n<svg height=\"248.518125pt\" version=\"1.1\" viewBox=\"0 0 245.2025 248.518125\" width=\"245.2025pt\" xmlns=\"http://www.w3.org/2000/svg\" xmlns:xlink=\"http://www.w3.org/1999/xlink\">\n <defs>\n  <style type=\"text/css\">\n*{stroke-linecap:butt;stroke-linejoin:round;}\n  </style>\n </defs>\n <g id=\"figure_1\">\n  <g id=\"patch_1\">\n   <path d=\"M 0 248.518125 \nL 245.2025 248.518125 \nL 245.2025 0 \nL 0 0 \nz\n\" style=\"fill:none;\"/>\n  </g>\n  <g id=\"axes_1\">\n   <g id=\"patch_2\">\n    <path d=\"M 20.5625 224.64 \nL 238.0025 224.64 \nL 238.0025 7.2 \nL 20.5625 7.2 \nz\n\" style=\"fill:#ffffff;\"/>\n   </g>\n   <g clip-path=\"url(#p655eb90bb8)\">\n    <image height=\"218\" id=\"image2df838d0f8\" transform=\"scale(1 -1)translate(0 -218)\" width=\"218\" x=\"20.5625\" xlink:href=\"data:image/png;base64,\niVBORw0KGgoAAAANSUhEUgAAANoAAADaCAYAAADAHVzbAAAABHNCSVQICAgIfAhkiAAAAzpJREFUeJzt3FGNIkEARdFiwz84mJbQEpCABCQgASlIaAlIQAI4aAeMieWSZc8x8Cqp3NRfbcYYr/GFrtdrujdNU7Z1OByyLf6OP58+APwPhAYBoUFAaBAQGgSEBgGhQUBoEBAaBIQGAaFBQGgQEBoEhAYBoUFAaBAQGgSEBgGhQUBoEBAaBIQGAaFBQGgQEBoEhAaB7acP8C73+z3dm+c53ePf4kWDgNAgIDQICA0CQoOA0CAgNAgIDQJCg4DQICA0CAgNAkKDgNAgIDQICA0CQoOA0CAgNAgIDQJCg4DQICA0CAgNAkKDgNAgIDQIbMYYr08f4hus65ptnU6nbGtZlmzrm3nRICA0CAgNAkKDgNAgIDQICA0CQoOA0CAgNAgIDQJCg4DQICA0CAgNAkKDgNAgIDQICA0CQoOA0CAgNAgIDQJCg4DQICA0CKRfgs/zXE2Ny+WSbY0xxjRN6V6lvLNv5kWDgNAgIDQICA0CQoOA0CAgNAgIDQJCg4DQICA0CAgNAkKDgNAgIDQICA0CQoOA0CAgNAgIDQJCg4DQICA0CAgNAkKDgNAgkH4Jvt/vq6nxeDyyrTHG2O126d43ej6f6V75jbsXDQJCg4DQICA0CAgNAkKDgNAgIDQICA0CQoOA0CAgNAgIDQJCg4DQICA0CAgNAkKDgNAgIDQICA0CQoOA0CAgNAgIDQJCg8C2HFvXNdsqvx+vHQ6HbGtZlmzrdrtlWzUvGgSEBgGhQUBoEBAaBIQGAaFBQGgQEBoEhAYBoUFAaBAQGgSEBgGhQUBoEBAaBIQGAaFBQGgQEBoEhAYBoUFAaBAQGgSEBgGhQWAzxnh9+hDvcD6f073yP/z7/Z5tTdOUbR2Px2xrjPbOvGgQEBoEhAYBoUFAaBAQGgSEBgGhQUBoEBAaBIQGAaFBQGgQEBoEhAYBoUFAaBAQGgSEBgGhQUBoEBAaBIQGAaFBQGgQEBoEtp8+wLus65ruzfP8lVs/Pz/ZVq38gtyLBgGhQUBoEBAaBIQGAaFBQGgQEBoEhAYBoUFAaBAQGgSEBgGhQUBoEBAaBIQGAaFBQGgQEBoEhAYBoUFAaBAQGgSEBgGhQeAXH90vjjBeFA4AAAAASUVORK5CYII=\" y=\"-6.64\"/>\n   </g>\n   <g id=\"matplotlib.axis_1\">\n    <g id=\"xtick_1\">\n     <g id=\"line2d_1\">\n      <defs>\n       <path d=\"M 0 0 \nL 0 3.5 \n\" id=\"m1f3aedfeab\" style=\"stroke:#000000;stroke-width:0.8;\"/>\n      </defs>\n      <g>\n       <use style=\"stroke:#000000;stroke-width:0.8;\" x=\"34.1525\" xlink:href=\"#m1f3aedfeab\" y=\"224.64\"/>\n      </g>\n     </g>\n     <g id=\"text_1\">\n      <!-- 0 -->\n      <defs>\n       <path d=\"M 31.78125 66.40625 \nQ 24.171875 66.40625 20.328125 58.90625 \nQ 16.5 51.421875 16.5 36.375 \nQ 16.5 21.390625 20.328125 13.890625 \nQ 24.171875 6.390625 31.78125 6.390625 \nQ 39.453125 6.390625 43.28125 13.890625 \nQ 47.125 21.390625 47.125 36.375 \nQ 47.125 51.421875 43.28125 58.90625 \nQ 39.453125 66.40625 31.78125 66.40625 \nz\nM 31.78125 74.21875 \nQ 44.046875 74.21875 50.515625 64.515625 \nQ 56.984375 54.828125 56.984375 36.375 \nQ 56.984375 17.96875 50.515625 8.265625 \nQ 44.046875 -1.421875 31.78125 -1.421875 \nQ 19.53125 -1.421875 13.0625 8.265625 \nQ 6.59375 17.96875 6.59375 36.375 \nQ 6.59375 54.828125 13.0625 64.515625 \nQ 19.53125 74.21875 31.78125 74.21875 \nz\n\" id=\"DejaVuSans-48\"/>\n      </defs>\n      <g transform=\"translate(30.97125 239.238437)scale(0.1 -0.1)\">\n       <use xlink:href=\"#DejaVuSans-48\"/>\n      </g>\n     </g>\n    </g>\n    <g id=\"xtick_2\">\n     <g id=\"line2d_2\">\n      <g>\n       <use style=\"stroke:#000000;stroke-width:0.8;\" x=\"88.5125\" xlink:href=\"#m1f3aedfeab\" y=\"224.64\"/>\n      </g>\n     </g>\n     <g id=\"text_2\">\n      <!-- 2 -->\n      <defs>\n       <path d=\"M 19.1875 8.296875 \nL 53.609375 8.296875 \nL 53.609375 0 \nL 7.328125 0 \nL 7.328125 8.296875 \nQ 12.9375 14.109375 22.625 23.890625 \nQ 32.328125 33.6875 34.8125 36.53125 \nQ 39.546875 41.84375 41.421875 45.53125 \nQ 43.3125 49.21875 43.3125 52.78125 \nQ 43.3125 58.59375 39.234375 62.25 \nQ 35.15625 65.921875 28.609375 65.921875 \nQ 23.96875 65.921875 18.8125 64.3125 \nQ 13.671875 62.703125 7.8125 59.421875 \nL 7.8125 69.390625 \nQ 13.765625 71.78125 18.9375 73 \nQ 24.125 74.21875 28.421875 74.21875 \nQ 39.75 74.21875 46.484375 68.546875 \nQ 53.21875 62.890625 53.21875 53.421875 \nQ 53.21875 48.921875 51.53125 44.890625 \nQ 49.859375 40.875 45.40625 35.40625 \nQ 44.1875 33.984375 37.640625 27.21875 \nQ 31.109375 20.453125 19.1875 8.296875 \nz\n\" id=\"DejaVuSans-50\"/>\n      </defs>\n      <g transform=\"translate(85.33125 239.238437)scale(0.1 -0.1)\">\n       <use xlink:href=\"#DejaVuSans-50\"/>\n      </g>\n     </g>\n    </g>\n    <g id=\"xtick_3\">\n     <g id=\"line2d_3\">\n      <g>\n       <use style=\"stroke:#000000;stroke-width:0.8;\" x=\"142.8725\" xlink:href=\"#m1f3aedfeab\" y=\"224.64\"/>\n      </g>\n     </g>\n     <g id=\"text_3\">\n      <!-- 4 -->\n      <defs>\n       <path d=\"M 37.796875 64.3125 \nL 12.890625 25.390625 \nL 37.796875 25.390625 \nz\nM 35.203125 72.90625 \nL 47.609375 72.90625 \nL 47.609375 25.390625 \nL 58.015625 25.390625 \nL 58.015625 17.1875 \nL 47.609375 17.1875 \nL 47.609375 0 \nL 37.796875 0 \nL 37.796875 17.1875 \nL 4.890625 17.1875 \nL 4.890625 26.703125 \nz\n\" id=\"DejaVuSans-52\"/>\n      </defs>\n      <g transform=\"translate(139.69125 239.238437)scale(0.1 -0.1)\">\n       <use xlink:href=\"#DejaVuSans-52\"/>\n      </g>\n     </g>\n    </g>\n    <g id=\"xtick_4\">\n     <g id=\"line2d_4\">\n      <g>\n       <use style=\"stroke:#000000;stroke-width:0.8;\" x=\"197.2325\" xlink:href=\"#m1f3aedfeab\" y=\"224.64\"/>\n      </g>\n     </g>\n     <g id=\"text_4\">\n      <!-- 6 -->\n      <defs>\n       <path d=\"M 33.015625 40.375 \nQ 26.375 40.375 22.484375 35.828125 \nQ 18.609375 31.296875 18.609375 23.390625 \nQ 18.609375 15.53125 22.484375 10.953125 \nQ 26.375 6.390625 33.015625 6.390625 \nQ 39.65625 6.390625 43.53125 10.953125 \nQ 47.40625 15.53125 47.40625 23.390625 \nQ 47.40625 31.296875 43.53125 35.828125 \nQ 39.65625 40.375 33.015625 40.375 \nz\nM 52.59375 71.296875 \nL 52.59375 62.3125 \nQ 48.875 64.0625 45.09375 64.984375 \nQ 41.3125 65.921875 37.59375 65.921875 \nQ 27.828125 65.921875 22.671875 59.328125 \nQ 17.53125 52.734375 16.796875 39.40625 \nQ 19.671875 43.65625 24.015625 45.921875 \nQ 28.375 48.1875 33.59375 48.1875 \nQ 44.578125 48.1875 50.953125 41.515625 \nQ 57.328125 34.859375 57.328125 23.390625 \nQ 57.328125 12.15625 50.6875 5.359375 \nQ 44.046875 -1.421875 33.015625 -1.421875 \nQ 20.359375 -1.421875 13.671875 8.265625 \nQ 6.984375 17.96875 6.984375 36.375 \nQ 6.984375 53.65625 15.1875 63.9375 \nQ 23.390625 74.21875 37.203125 74.21875 \nQ 40.921875 74.21875 44.703125 73.484375 \nQ 48.484375 72.75 52.59375 71.296875 \nz\n\" id=\"DejaVuSans-54\"/>\n      </defs>\n      <g transform=\"translate(194.05125 239.238437)scale(0.1 -0.1)\">\n       <use xlink:href=\"#DejaVuSans-54\"/>\n      </g>\n     </g>\n    </g>\n   </g>\n   <g id=\"matplotlib.axis_2\">\n    <g id=\"ytick_1\">\n     <g id=\"line2d_5\">\n      <defs>\n       <path d=\"M 0 0 \nL -3.5 0 \n\" id=\"m969df15ec4\" style=\"stroke:#000000;stroke-width:0.8;\"/>\n      </defs>\n      <g>\n       <use style=\"stroke:#000000;stroke-width:0.8;\" x=\"20.5625\" xlink:href=\"#m969df15ec4\" y=\"20.79\"/>\n      </g>\n     </g>\n     <g id=\"text_5\">\n      <!-- 0 -->\n      <g transform=\"translate(7.2 24.589219)scale(0.1 -0.1)\">\n       <use xlink:href=\"#DejaVuSans-48\"/>\n      </g>\n     </g>\n    </g>\n    <g id=\"ytick_2\">\n     <g id=\"line2d_6\">\n      <g>\n       <use style=\"stroke:#000000;stroke-width:0.8;\" x=\"20.5625\" xlink:href=\"#m969df15ec4\" y=\"47.97\"/>\n      </g>\n     </g>\n     <g id=\"text_6\">\n      <!-- 1 -->\n      <defs>\n       <path d=\"M 12.40625 8.296875 \nL 28.515625 8.296875 \nL 28.515625 63.921875 \nL 10.984375 60.40625 \nL 10.984375 69.390625 \nL 28.421875 72.90625 \nL 38.28125 72.90625 \nL 38.28125 8.296875 \nL 54.390625 8.296875 \nL 54.390625 0 \nL 12.40625 0 \nz\n\" id=\"DejaVuSans-49\"/>\n      </defs>\n      <g transform=\"translate(7.2 51.769219)scale(0.1 -0.1)\">\n       <use xlink:href=\"#DejaVuSans-49\"/>\n      </g>\n     </g>\n    </g>\n    <g id=\"ytick_3\">\n     <g id=\"line2d_7\">\n      <g>\n       <use style=\"stroke:#000000;stroke-width:0.8;\" x=\"20.5625\" xlink:href=\"#m969df15ec4\" y=\"75.15\"/>\n      </g>\n     </g>\n     <g id=\"text_7\">\n      <!-- 2 -->\n      <g transform=\"translate(7.2 78.949219)scale(0.1 -0.1)\">\n       <use xlink:href=\"#DejaVuSans-50\"/>\n      </g>\n     </g>\n    </g>\n    <g id=\"ytick_4\">\n     <g id=\"line2d_8\">\n      <g>\n       <use style=\"stroke:#000000;stroke-width:0.8;\" x=\"20.5625\" xlink:href=\"#m969df15ec4\" y=\"102.33\"/>\n      </g>\n     </g>\n     <g id=\"text_8\">\n      <!-- 3 -->\n      <defs>\n       <path d=\"M 40.578125 39.3125 \nQ 47.65625 37.796875 51.625 33 \nQ 55.609375 28.21875 55.609375 21.1875 \nQ 55.609375 10.40625 48.1875 4.484375 \nQ 40.765625 -1.421875 27.09375 -1.421875 \nQ 22.515625 -1.421875 17.65625 -0.515625 \nQ 12.796875 0.390625 7.625 2.203125 \nL 7.625 11.71875 \nQ 11.71875 9.328125 16.59375 8.109375 \nQ 21.484375 6.890625 26.8125 6.890625 \nQ 36.078125 6.890625 40.9375 10.546875 \nQ 45.796875 14.203125 45.796875 21.1875 \nQ 45.796875 27.640625 41.28125 31.265625 \nQ 36.765625 34.90625 28.71875 34.90625 \nL 20.21875 34.90625 \nL 20.21875 43.015625 \nL 29.109375 43.015625 \nQ 36.375 43.015625 40.234375 45.921875 \nQ 44.09375 48.828125 44.09375 54.296875 \nQ 44.09375 59.90625 40.109375 62.90625 \nQ 36.140625 65.921875 28.71875 65.921875 \nQ 24.65625 65.921875 20.015625 65.03125 \nQ 15.375 64.15625 9.8125 62.3125 \nL 9.8125 71.09375 \nQ 15.4375 72.65625 20.34375 73.4375 \nQ 25.25 74.21875 29.59375 74.21875 \nQ 40.828125 74.21875 47.359375 69.109375 \nQ 53.90625 64.015625 53.90625 55.328125 \nQ 53.90625 49.265625 50.4375 45.09375 \nQ 46.96875 40.921875 40.578125 39.3125 \nz\n\" id=\"DejaVuSans-51\"/>\n      </defs>\n      <g transform=\"translate(7.2 106.129219)scale(0.1 -0.1)\">\n       <use xlink:href=\"#DejaVuSans-51\"/>\n      </g>\n     </g>\n    </g>\n    <g id=\"ytick_5\">\n     <g id=\"line2d_9\">\n      <g>\n       <use style=\"stroke:#000000;stroke-width:0.8;\" x=\"20.5625\" xlink:href=\"#m969df15ec4\" y=\"129.51\"/>\n      </g>\n     </g>\n     <g id=\"text_9\">\n      <!-- 4 -->\n      <g transform=\"translate(7.2 133.309219)scale(0.1 -0.1)\">\n       <use xlink:href=\"#DejaVuSans-52\"/>\n      </g>\n     </g>\n    </g>\n    <g id=\"ytick_6\">\n     <g id=\"line2d_10\">\n      <g>\n       <use style=\"stroke:#000000;stroke-width:0.8;\" x=\"20.5625\" xlink:href=\"#m969df15ec4\" y=\"156.69\"/>\n      </g>\n     </g>\n     <g id=\"text_10\">\n      <!-- 5 -->\n      <defs>\n       <path d=\"M 10.796875 72.90625 \nL 49.515625 72.90625 \nL 49.515625 64.59375 \nL 19.828125 64.59375 \nL 19.828125 46.734375 \nQ 21.96875 47.46875 24.109375 47.828125 \nQ 26.265625 48.1875 28.421875 48.1875 \nQ 40.625 48.1875 47.75 41.5 \nQ 54.890625 34.8125 54.890625 23.390625 \nQ 54.890625 11.625 47.5625 5.09375 \nQ 40.234375 -1.421875 26.90625 -1.421875 \nQ 22.3125 -1.421875 17.546875 -0.640625 \nQ 12.796875 0.140625 7.71875 1.703125 \nL 7.71875 11.625 \nQ 12.109375 9.234375 16.796875 8.0625 \nQ 21.484375 6.890625 26.703125 6.890625 \nQ 35.15625 6.890625 40.078125 11.328125 \nQ 45.015625 15.765625 45.015625 23.390625 \nQ 45.015625 31 40.078125 35.4375 \nQ 35.15625 39.890625 26.703125 39.890625 \nQ 22.75 39.890625 18.8125 39.015625 \nQ 14.890625 38.140625 10.796875 36.28125 \nz\n\" id=\"DejaVuSans-53\"/>\n      </defs>\n      <g transform=\"translate(7.2 160.489219)scale(0.1 -0.1)\">\n       <use xlink:href=\"#DejaVuSans-53\"/>\n      </g>\n     </g>\n    </g>\n    <g id=\"ytick_7\">\n     <g id=\"line2d_11\">\n      <g>\n       <use style=\"stroke:#000000;stroke-width:0.8;\" x=\"20.5625\" xlink:href=\"#m969df15ec4\" y=\"183.87\"/>\n      </g>\n     </g>\n     <g id=\"text_11\">\n      <!-- 6 -->\n      <g transform=\"translate(7.2 187.669219)scale(0.1 -0.1)\">\n       <use xlink:href=\"#DejaVuSans-54\"/>\n      </g>\n     </g>\n    </g>\n    <g id=\"ytick_8\">\n     <g id=\"line2d_12\">\n      <g>\n       <use style=\"stroke:#000000;stroke-width:0.8;\" x=\"20.5625\" xlink:href=\"#m969df15ec4\" y=\"211.05\"/>\n      </g>\n     </g>\n     <g id=\"text_12\">\n      <!-- 7 -->\n      <defs>\n       <path d=\"M 8.203125 72.90625 \nL 55.078125 72.90625 \nL 55.078125 68.703125 \nL 28.609375 0 \nL 18.3125 0 \nL 43.21875 64.59375 \nL 8.203125 64.59375 \nz\n\" id=\"DejaVuSans-55\"/>\n      </defs>\n      <g transform=\"translate(7.2 214.849219)scale(0.1 -0.1)\">\n       <use xlink:href=\"#DejaVuSans-55\"/>\n      </g>\n     </g>\n    </g>\n   </g>\n   <g id=\"patch_3\">\n    <path d=\"M 20.5625 224.64 \nL 20.5625 7.2 \n\" style=\"fill:none;stroke:#000000;stroke-linecap:square;stroke-linejoin:miter;stroke-width:0.8;\"/>\n   </g>\n   <g id=\"patch_4\">\n    <path d=\"M 238.0025 224.64 \nL 238.0025 7.2 \n\" style=\"fill:none;stroke:#000000;stroke-linecap:square;stroke-linejoin:miter;stroke-width:0.8;\"/>\n   </g>\n   <g id=\"patch_5\">\n    <path d=\"M 20.5625 224.64 \nL 238.0025 224.64 \n\" style=\"fill:none;stroke:#000000;stroke-linecap:square;stroke-linejoin:miter;stroke-width:0.8;\"/>\n   </g>\n   <g id=\"patch_6\">\n    <path d=\"M 20.5625 7.2 \nL 238.0025 7.2 \n\" style=\"fill:none;stroke:#000000;stroke-linecap:square;stroke-linejoin:miter;stroke-width:0.8;\"/>\n   </g>\n  </g>\n </g>\n <defs>\n  <clipPath id=\"p655eb90bb8\">\n   <rect height=\"217.44\" width=\"217.44\" x=\"20.5625\" y=\"7.2\"/>\n  </clipPath>\n </defs>\n</svg>\n",
      "image/png": "[encoded data removed]"
     },
     "metadata": {
      "needs_background": "light"
     }
    },
    {
     "output_type": "stream",
     "name": "stdout",
     "text": [
      "7\n"
     ]
    }
   ],
   "source": [
    "plt.imshow(X_train.values[10].reshape(8,8), cmap='gray')\n",
    "plt.show()\n",
    "print(y_train[10])"
   ]
  },
  {
   "cell_type": "code",
   "execution_count": 8,
   "metadata": {},
   "outputs": [
    {
     "output_type": "stream",
     "name": "stdout",
     "text": [
      "Training Accuracy: 1.0000.\n\nTest Accuracy: 0.9610\n\n     0    1    2    3    4    5    6    7    8    9\n0  177    0    0    0    0    1    0    0    0    0\n1    0  178    0    0    0    0    3    0    1    0\n2    0    7  170    0    0    0    0    0    0    0\n3    1    0    5  171    0    2    0    2    1    1\n4    0    0    0    0  180    0    0    0    1    0\n5    0    0    1    0    0  180    0    0    0    1\n6    0    0    0    0    1    0  179    0    1    0\n7    0    0    0    0    1    7    0  165    0    6\n8    0    9    1    5    0    2    0    0  157    0\n9    1    0    0    4    1    3    0    0    1  170\n\n              precision    recall  f1-score   support\n\n           0       0.99      0.99      0.99       178\n           1       0.92      0.98      0.95       182\n           2       0.96      0.96      0.96       177\n           3       0.95      0.93      0.94       183\n           4       0.98      0.99      0.99       181\n           5       0.92      0.99      0.95       182\n           6       0.98      0.99      0.99       181\n           7       0.99      0.92      0.95       179\n           8       0.97      0.90      0.93       174\n           9       0.96      0.94      0.95       180\n\n    accuracy                           0.96      1797\n   macro avg       0.96      0.96      0.96      1797\nweighted avg       0.96      0.96      0.96      1797\n\n"
     ]
    }
   ],
   "source": [
    "# Use linear kernel\n",
    "svc = SVC(kernel='linear')\n",
    "svc.fit(X_train, y_train)\n",
    "print('Training Accuracy: {:.4f}.\\n'.format(svc.score(X_train, y_train)))\n",
    "\n",
    "# Calculate test error on test set\n",
    "y_pred = svc.predict(X_test)\n",
    "matrix = confusion_matrix(y_test, y_pred)\n",
    "clf_pred_result = pd.DataFrame(matrix, index=svc.classes_, columns=svc.classes_)\n",
    "\n",
    "# Print result\n",
    "print('Test Accuracy: {:.4f}'.format(np.diagonal(matrix).sum()/(matrix.sum())))\n",
    "print('')\n",
    "print(clf_pred_result)\n",
    "print('')\n",
    "print(classification_report(y_test, y_pred))"
   ]
  },
  {
   "cell_type": "code",
   "execution_count": 9,
   "metadata": {},
   "outputs": [
    {
     "output_type": "stream",
     "name": "stdout",
     "text": [
      "Training Accuracy: 0.9945.\n\nTest Accuracy: 0.9727\n\n     0    1    2    3    4    5    6    7    8    9\n0  177    0    0    0    1    0    0    0    0    0\n1    0  180    0    0    0    0    0    0    1    1\n2    0    3  173    0    0    0    0    0    1    0\n3    0    0    2  173    0    3    0    3    1    1\n4    0    0    0    0  180    0    0    0    1    0\n5    0    0    0    0    0  180    0    0    0    2\n6    0    0    0    0    1    0  180    0    0    0\n7    0    0    0    0    0    5    0  168    0    6\n8    0    6    0    0    0    0    0    0  164    4\n9    0    1    0    2    1    2    0    0    1  173\n\n              precision    recall  f1-score   support\n\n           0       1.00      0.99      1.00       178\n           1       0.95      0.99      0.97       182\n           2       0.99      0.98      0.98       177\n           3       0.99      0.95      0.97       183\n           4       0.98      0.99      0.99       181\n           5       0.95      0.99      0.97       182\n           6       1.00      0.99      1.00       181\n           7       0.98      0.94      0.96       179\n           8       0.97      0.94      0.96       174\n           9       0.93      0.96      0.94       180\n\n    accuracy                           0.97      1797\n   macro avg       0.97      0.97      0.97      1797\nweighted avg       0.97      0.97      0.97      1797\n\n"
     ]
    }
   ],
   "source": [
    "# Use poly d=2 kernel\n",
    "svc = SVC(kernel='poly', degree=2)\n",
    "svc.fit(X_train, y_train)\n",
    "print('Training Accuracy: {:.4f}.\\n'.format(svc.score(X_train, y_train)))\n",
    "\n",
    "# Calculate test error on test set\n",
    "y_pred = svc.predict(X_test)\n",
    "matrix = confusion_matrix(y_test, y_pred)\n",
    "clf_pred_result = pd.DataFrame(matrix, index=svc.classes_, columns=svc.classes_)\n",
    "\n",
    "# Print result\n",
    "print('Test Accuracy: {:.4f}'.format(np.diagonal(matrix).sum()/(matrix.sum())))\n",
    "print('')\n",
    "print(clf_pred_result)\n",
    "print('')\n",
    "print(classification_report(y_test, y_pred))"
   ]
  },
  {
   "cell_type": "code",
   "execution_count": 18,
   "metadata": {},
   "outputs": [
    {
     "output_type": "stream",
     "name": "stdout",
     "text": [
      "Training Accuracy: 1.0000.\n\nTest Accuracy: 0.9827\n\n     0    1    2    3    4    5    6    7    8    9\n0  178    0    0    0    0    0    0    0    0    0\n1    0  181    0    0    0    0    0    0    1    0\n2    0    3  174    0    0    0    0    0    0    0\n3    0    0    0  179    0    1    0    1    1    1\n4    0    0    0    0  181    0    0    0    0    0\n5    0    0    0    0    0  180    0    0    0    2\n6    1    0    0    0    0    0  180    0    0    0\n7    0    0    0    0    0    1    0  171    0    7\n8    0    5    0    1    0    1    0    0  166    1\n9    0    0    0    2    0    1    0    0    1  176\n\n              precision    recall  f1-score   support\n\n           0       0.99      1.00      1.00       178\n           1       0.96      0.99      0.98       182\n           2       1.00      0.98      0.99       177\n           3       0.98      0.98      0.98       183\n           4       1.00      1.00      1.00       181\n           5       0.98      0.99      0.98       182\n           6       1.00      0.99      1.00       181\n           7       0.99      0.96      0.97       179\n           8       0.98      0.95      0.97       174\n           9       0.94      0.98      0.96       180\n\n    accuracy                           0.98      1797\n   macro avg       0.98      0.98      0.98      1797\nweighted avg       0.98      0.98      0.98      1797\n\n"
     ]
    }
   ],
   "source": [
    "# Use poly d=2 kernel\n",
    "svc = SVC(kernel='rbf', gamma=0.001, C=10)\n",
    "svc.fit(X_train, y_train)\n",
    "print('Training Accuracy: {:.4f}.\\n'.format(svc.score(X_train, y_train)))\n",
    "\n",
    "# Calculate test error on test set\n",
    "y_pred = svc.predict(X_test)\n",
    "matrix = confusion_matrix(y_test, y_pred)\n",
    "clf_pred_result = pd.DataFrame(matrix, index=svc.classes_, columns=svc.classes_)\n",
    "\n",
    "# Print result\n",
    "print('Test Accuracy: {:.4f}'.format(np.diagonal(matrix).sum()/(matrix.sum())))\n",
    "print('')\n",
    "print(clf_pred_result)\n",
    "print('')\n",
    "print(classification_report(y_test, y_pred))"
   ]
  },
  {
   "cell_type": "code",
   "execution_count": 13,
   "metadata": {},
   "outputs": [
    {
     "output_type": "execute_result",
     "data": {
      "text/plain": [
       "{'C': 10, 'gamma': 0.001}"
      ]
     },
     "metadata": {},
     "execution_count": 13
    }
   ],
   "source": [
    "tuned_parameters = [{'C': [0.01, 0.1, 1, 10],\n",
    "                     'gamma': [0.001, 0.01, 0.1, 1, 10]}]\n",
    "clf = GridSearchCV(SVC(kernel='rbf'), tuned_parameters, cv=5, scoring='accuracy')\n",
    "clf.fit(X_train, y_train)\n",
    "clf.best_params_"
   ]
  },
  {
   "cell_type": "code",
   "execution_count": 17,
   "metadata": {},
   "outputs": [
    {
     "output_type": "execute_result",
     "data": {
      "text/plain": [
       "{'mean_fit_time': array([1.29227486, 1.28358636, 1.28863206, 1.10576601, 0.95680418,\n",
       "        0.43489957, 1.28284302, 1.33578677, 1.33749714, 1.11758928,\n",
       "        0.22570844, 1.39480262, 1.53570123, 1.19697928, 1.03346982,\n",
       "        0.22036438, 1.39237347, 1.41719646, 1.23103533, 1.08217521]),\n",
       " 'std_fit_time': array([0.02438644, 0.00875355, 0.00416763, 0.00554128, 0.00402786,\n",
       "        0.00420636, 0.00417343, 0.0038252 , 0.09763812, 0.07385081,\n",
       "        0.00273679, 0.00448533, 0.07462062, 0.03628415, 0.0079732 ,\n",
       "        0.00238389, 0.00514638, 0.00613886, 0.00880637, 0.01147065]),\n",
       " 'mean_score_time': array([0.18305936, 0.16443248, 0.16311531, 0.14417114, 0.13569508,\n",
       "        0.09436464, 0.16217561, 0.16192036, 0.16161065, 0.15447607,\n",
       "        0.05856338, 0.15782852, 0.17661157, 0.14597397, 0.13917894,\n",
       "        0.05667138, 0.15923562, 0.16450739, 0.14224992, 0.13842697]),\n",
       " 'std_score_time': array([0.02084558, 0.00452912, 0.00232045, 0.00349127, 0.00088172,\n",
       "        0.00046995, 0.00040597, 0.00037963, 0.01443002, 0.02230687,\n",
       "        0.00159924, 0.00037104, 0.01355858, 0.00601789, 0.00441392,\n",
       "        0.00061774, 0.0015166 , 0.00387498, 0.00032667, 0.00397843]),\n",
       " 'param_C': masked_array(data=[0.01, 0.01, 0.01, 0.01, 0.01, 0.1, 0.1, 0.1, 0.1, 0.1,\n",
       "                    1, 1, 1, 1, 1, 10, 10, 10, 10, 10],\n",
       "              mask=[False, False, False, False, False, False, False, False,\n",
       "                    False, False, False, False, False, False, False, False,\n",
       "                    False, False, False, False],\n",
       "        fill_value='?',\n",
       "             dtype=object),\n",
       " 'param_gamma': masked_array(data=[0.001, 0.01, 0.1, 1, 10, 0.001, 0.01, 0.1, 1, 10,\n",
       "                    0.001, 0.01, 0.1, 1, 10, 0.001, 0.01, 0.1, 1, 10],\n",
       "              mask=[False, False, False, False, False, False, False, False,\n",
       "                    False, False, False, False, False, False, False, False,\n",
       "                    False, False, False, False],\n",
       "        fill_value='?',\n",
       "             dtype=object),\n",
       " 'params': [{'C': 0.01, 'gamma': 0.001},\n",
       "  {'C': 0.01, 'gamma': 0.01},\n",
       "  {'C': 0.01, 'gamma': 0.1},\n",
       "  {'C': 0.01, 'gamma': 1},\n",
       "  {'C': 0.01, 'gamma': 10},\n",
       "  {'C': 0.1, 'gamma': 0.001},\n",
       "  {'C': 0.1, 'gamma': 0.01},\n",
       "  {'C': 0.1, 'gamma': 0.1},\n",
       "  {'C': 0.1, 'gamma': 1},\n",
       "  {'C': 0.1, 'gamma': 10},\n",
       "  {'C': 1, 'gamma': 0.001},\n",
       "  {'C': 1, 'gamma': 0.01},\n",
       "  {'C': 1, 'gamma': 0.1},\n",
       "  {'C': 1, 'gamma': 1},\n",
       "  {'C': 1, 'gamma': 10},\n",
       "  {'C': 10, 'gamma': 0.001},\n",
       "  {'C': 10, 'gamma': 0.01},\n",
       "  {'C': 10, 'gamma': 0.1},\n",
       "  {'C': 10, 'gamma': 1},\n",
       "  {'C': 10, 'gamma': 10}],\n",
       " 'split0_test_score': array([0.79477124, 0.1372549 , 0.10196078, 0.20261438, 0.10326797,\n",
       "        0.96078431, 0.13856209, 0.10196078, 0.20261438, 0.10326797,\n",
       "        0.98562092, 0.8130719 , 0.10588235, 0.10196078, 0.10326797,\n",
       "        0.99215686, 0.82875817, 0.10588235, 0.10196078, 0.10326797]),\n",
       " 'split1_test_score': array([0.78431373, 0.15294118, 0.10196078, 0.20392157, 0.10457516,\n",
       "        0.98431373, 0.15686275, 0.10196078, 0.20392157, 0.10457516,\n",
       "        0.99084967, 0.81045752, 0.10849673, 0.10196078, 0.10457516,\n",
       "        0.99215686, 0.82875817, 0.10849673, 0.10196078, 0.10457516]),\n",
       " 'split2_test_score': array([0.78300654, 0.10065359, 0.10065359, 0.10065359, 0.10065359,\n",
       "        0.97777778, 0.10326797, 0.10065359, 0.10065359, 0.10065359,\n",
       "        0.98823529, 0.79346405, 0.10065359, 0.10065359, 0.10065359,\n",
       "        0.98954248, 0.80130719, 0.10065359, 0.10065359, 0.10065359]),\n",
       " 'split3_test_score': array([0.77617801, 0.10078534, 0.10078534, 0.10078534, 0.10078534,\n",
       "        0.97774869, 0.10602094, 0.10078534, 0.10078534, 0.10078534,\n",
       "        0.9934555 , 0.82591623, 0.10078534, 0.10078534, 0.10078534,\n",
       "        0.9934555 , 0.83507853, 0.10340314, 0.10078534, 0.10078534]),\n",
       " 'split4_test_score': array([0.78926702, 0.19633508, 0.10471204, 0.20418848, 0.10602094,\n",
       "        0.97382199, 0.20026178, 0.10471204, 0.20418848, 0.10602094,\n",
       "        0.98560209, 0.83115183, 0.10994764, 0.10209424, 0.10602094,\n",
       "        0.9895288 , 0.84162304, 0.11125654, 0.10340314, 0.10602094]),\n",
       " 'mean_test_score': array([0.78550731, 0.13759402, 0.10201451, 0.16243267, 0.1030606 ,\n",
       "        0.9748893 , 0.14099511, 0.10201451, 0.16243267, 0.1030606 ,\n",
       "        0.98875269, 0.81481231, 0.10515313, 0.10149095, 0.1030606 ,\n",
       "        0.9913681 , 0.82710502, 0.10593847, 0.10175273, 0.1030606 ]),\n",
       " 'std_test_score': array([0.00623971, 0.03579284, 0.00145914, 0.05039145, 0.002101  ,\n",
       "        0.00781574, 0.03582393, 0.00145914, 0.05039145, 0.002101  ,\n",
       "        0.0030501 , 0.01317588, 0.00384765, 0.00063317, 0.002101  ,\n",
       "        0.00156955, 0.01375023, 0.00371988, 0.00099543, 0.002101  ]),\n",
       " 'rank_test_score': array([ 6, 10, 17,  7, 13,  3,  9, 17,  7, 13,  2,  5, 12, 20, 13,  1,  4,\n",
       "        11, 19, 13], dtype=int32)}"
      ]
     },
     "metadata": {},
     "execution_count": 17
    }
   ],
   "source": [
    "clf.cv_results_"
   ]
  },
  {
   "cell_type": "code",
   "execution_count": null,
   "metadata": {},
   "outputs": [],
   "source": []
  }
 ]
}