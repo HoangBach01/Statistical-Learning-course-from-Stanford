{
 "metadata": {
  "language_info": {
   "codemirror_mode": {
    "name": "ipython",
    "version": 3
   },
   "file_extension": ".py",
   "mimetype": "text/x-python",
   "name": "python",
   "nbconvert_exporter": "python",
   "pygments_lexer": "ipython3",
   "version": "3.7.7-final"
  },
  "orig_nbformat": 2,
  "kernelspec": {
   "name": "Python 3.7.7 64-bit ('ai_learn': conda)",
   "display_name": "Python 3.7.7 64-bit ('ai_learn': conda)",
   "metadata": {
    "interpreter": {
     "hash": "0d8bca8ec97c097c371db1b56209bb3af580e9a9345b8f0104eadaeed7f26ccc"
    }
   }
  }
 },
 "nbformat": 4,
 "nbformat_minor": 2,
 "cells": [
  {
   "cell_type": "code",
   "execution_count": 4,
   "metadata": {},
   "outputs": [],
   "source": [
    "import numpy as np\n",
    "import pandas as pd\n",
    "import matplotlib.pyplot as plt\n",
    "import seaborn as sb\n",
    "%matplotlib inline\n",
    "\n",
    "import statsmodels.formula.api as smf\n",
    "import lmdiag"
   ]
  },
  {
   "cell_type": "code",
   "execution_count": 2,
   "metadata": {},
   "outputs": [],
   "source": [
    "np.random.seed(1)\n",
    "x = np.random.normal(0,1,100)\n",
    "y = x*2 + np.random.normal(0,1,100)"
   ]
  },
  {
   "cell_type": "code",
   "execution_count": 3,
   "metadata": {},
   "outputs": [
    {
     "output_type": "execute_result",
     "data": {
      "text/plain": "          x         y\n0  1.624345  2.801562\n1 -0.611756  0.000995\n2 -0.528172 -0.652852\n3 -1.072969 -1.552359\n4  0.865408  0.635903",
      "text/html": "<div>\n<style scoped>\n    .dataframe tbody tr th:only-of-type {\n        vertical-align: middle;\n    }\n\n    .dataframe tbody tr th {\n        vertical-align: top;\n    }\n\n    .dataframe thead th {\n        text-align: right;\n    }\n</style>\n<table border=\"1\" class=\"dataframe\">\n  <thead>\n    <tr style=\"text-align: right;\">\n      <th></th>\n      <th>x</th>\n      <th>y</th>\n    </tr>\n  </thead>\n  <tbody>\n    <tr>\n      <th>0</th>\n      <td>1.624345</td>\n      <td>2.801562</td>\n    </tr>\n    <tr>\n      <th>1</th>\n      <td>-0.611756</td>\n      <td>0.000995</td>\n    </tr>\n    <tr>\n      <th>2</th>\n      <td>-0.528172</td>\n      <td>-0.652852</td>\n    </tr>\n    <tr>\n      <th>3</th>\n      <td>-1.072969</td>\n      <td>-1.552359</td>\n    </tr>\n    <tr>\n      <th>4</th>\n      <td>0.865408</td>\n      <td>0.635903</td>\n    </tr>\n  </tbody>\n</table>\n</div>"
     },
     "metadata": {},
     "execution_count": 3
    }
   ],
   "source": [
    "x = pd.DataFrame(x, columns=['x'])\n",
    "y = pd.DataFrame(y, columns=['y'])\n",
    "data = pd.concat([x,y], axis=1)\n",
    "data.head()"
   ]
  },
  {
   "cell_type": "code",
   "execution_count": 6,
   "metadata": {
    "tags": []
   },
   "outputs": [
    {
     "output_type": "stream",
     "name": "stdout",
     "text": "                                 OLS Regression Results                                \n=======================================================================================\nDep. Variable:                      y   R-squared (uncentered):                   0.798\nModel:                            OLS   Adj. R-squared (uncentered):              0.796\nMethod:                 Least Squares   F-statistic:                              391.7\nDate:                Sat, 03 Oct 2020   Prob (F-statistic):                    3.46e-36\nTime:                        12:02:22   Log-Likelihood:                         -135.67\nNo. Observations:                 100   AIC:                                      273.3\nDf Residuals:                      99   BIC:                                      275.9\nDf Model:                           1                                                  \nCovariance Type:            nonrobust                                                  \n==============================================================================\n                 coef    std err          t      P&gt;|t|      [0.025      0.975]\n------------------------------------------------------------------------------\nx              2.1067      0.106     19.792      0.000       1.896       2.318\n==============================================================================\nOmnibus:                        0.880   Durbin-Watson:                   2.106\nProb(Omnibus):                  0.644   Jarque-Bera (JB):                0.554\nSkew:                          -0.172   Prob(JB):                        0.758\nKurtosis:                       3.119   Cond. No.                         1.00\n==============================================================================\n\nWarnings:\n[1] Standard Errors assume that the covariance matrix of the errors is correctly specified.\n"
    }
   ],
   "source": [
    "lm1 = smf.ols(formula='y ~ 0 + x', data=data).fit()\n",
    "print(lm1.summary())"
   ]
  },
  {
   "cell_type": "code",
   "execution_count": 8,
   "metadata": {},
   "outputs": [
    {
     "output_type": "execute_result",
     "data": {
      "text/plain": "x    2.106742\ndtype: float64"
     },
     "metadata": {},
     "execution_count": 8
    }
   ],
   "source": [
    "lm1.params"
   ]
  },
  {
   "cell_type": "code",
   "execution_count": 11,
   "metadata": {},
   "outputs": [
    {
     "output_type": "execute_result",
     "data": {
      "text/plain": "          0         1\nx  1.895531  2.317952",
      "text/html": "<div>\n<style scoped>\n    .dataframe tbody tr th:only-of-type {\n        vertical-align: middle;\n    }\n\n    .dataframe tbody tr th {\n        vertical-align: top;\n    }\n\n    .dataframe thead th {\n        text-align: right;\n    }\n</style>\n<table border=\"1\" class=\"dataframe\">\n  <thead>\n    <tr style=\"text-align: right;\">\n      <th></th>\n      <th>0</th>\n      <th>1</th>\n    </tr>\n  </thead>\n  <tbody>\n    <tr>\n      <th>x</th>\n      <td>1.895531</td>\n      <td>2.317952</td>\n    </tr>\n  </tbody>\n</table>\n</div>"
     },
     "metadata": {},
     "execution_count": 11
    }
   ],
   "source": [
    "lm1.conf_int(alpha=0.05)"
   ]
  },
  {
   "cell_type": "code",
   "execution_count": 12,
   "metadata": {
    "tags": []
   },
   "outputs": [
    {
     "output_type": "stream",
     "name": "stdout",
     "text": "                                 OLS Regression Results                                \n=======================================================================================\nDep. Variable:                      x   R-squared (uncentered):                   0.798\nModel:                            OLS   Adj. R-squared (uncentered):              0.796\nMethod:                 Least Squares   F-statistic:                              391.7\nDate:                Sat, 03 Oct 2020   Prob (F-statistic):                    3.46e-36\nTime:                        12:09:50   Log-Likelihood:                         -49.891\nNo. Observations:                 100   AIC:                                      101.8\nDf Residuals:                      99   BIC:                                      104.4\nDf Model:                           1                                                  \nCovariance Type:            nonrobust                                                  \n==============================================================================\n                 coef    std err          t      P&gt;|t|      [0.025      0.975]\n------------------------------------------------------------------------------\ny              0.3789      0.019     19.792      0.000       0.341       0.417\n==============================================================================\nOmnibus:                        0.476   Durbin-Watson:                   2.166\nProb(Omnibus):                  0.788   Jarque-Bera (JB):                0.631\nSkew:                           0.115   Prob(JB):                        0.729\nKurtosis:                       2.685   Cond. No.                         1.00\n==============================================================================\n\nWarnings:\n[1] Standard Errors assume that the covariance matrix of the errors is correctly specified.\n"
    }
   ],
   "source": [
    "lm2 = smf.ols(formula='x ~ 0 + y', data=data).fit()\n",
    "print(lm2.summary())"
   ]
  },
  {
   "cell_type": "code",
   "execution_count": 13,
   "metadata": {
    "tags": []
   },
   "outputs": [
    {
     "output_type": "stream",
     "name": "stdout",
     "text": "                            OLS Regression Results                            \n==============================================================================\nDep. Variable:                      y   R-squared:                       0.800\nModel:                            OLS   Adj. R-squared:                  0.798\nMethod:                 Least Squares   F-statistic:                     391.4\nDate:                Sat, 03 Oct 2020   Prob (F-statistic):           5.39e-36\nTime:                        12:10:48   Log-Likelihood:                -134.44\nNo. Observations:                 100   AIC:                             272.9\nDf Residuals:                      98   BIC:                             278.1\nDf Model:                           1                                         \nCovariance Type:            nonrobust                                         \n==============================================================================\n                 coef    std err          t      P&gt;|t|      [0.025      0.975]\n------------------------------------------------------------------------------\nIntercept      0.1470      0.094      1.564      0.121      -0.039       0.334\nx              2.0954      0.106     19.783      0.000       1.885       2.306\n==============================================================================\nOmnibus:                        0.898   Durbin-Watson:                   2.157\nProb(Omnibus):                  0.638   Jarque-Bera (JB):                0.561\nSkew:                          -0.172   Prob(JB):                        0.755\nKurtosis:                       3.127   Cond. No.                         1.15\n==============================================================================\n\nWarnings:\n[1] Standard Errors assume that the covariance matrix of the errors is correctly specified.\n"
    }
   ],
   "source": [
    "lm3 = smf.ols(formula='y ~ 1 + x', data=data).fit()\n",
    "print(lm3.summary())"
   ]
  },
  {
   "cell_type": "code",
   "execution_count": 14,
   "metadata": {},
   "outputs": [],
   "source": [
    "# Excercise 12\n",
    "# 12.a When beta = 1"
   ]
  },
  {
   "cell_type": "code",
   "execution_count": 15,
   "metadata": {},
   "outputs": [],
   "source": [
    "# 12.b When beta != 1\n",
    "# 12.c When beta =1"
   ]
  },
  {
   "cell_type": "code",
   "execution_count": null,
   "metadata": {},
   "outputs": [],
   "source": []
  }
 ]
}