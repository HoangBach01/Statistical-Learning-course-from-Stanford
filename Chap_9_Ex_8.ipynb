{
 "metadata": {
  "language_info": {
   "codemirror_mode": {
    "name": "ipython",
    "version": 3
   },
   "file_extension": ".py",
   "mimetype": "text/x-python",
   "name": "python",
   "nbconvert_exporter": "python",
   "pygments_lexer": "ipython3",
   "version": "3.7.7-final"
  },
  "orig_nbformat": 2,
  "kernelspec": {
   "name": "Python 3.7.7 64-bit ('ai_learn': conda)",
   "display_name": "Python 3.7.7 64-bit ('ai_learn': conda)",
   "metadata": {
    "interpreter": {
     "hash": "0d8bca8ec97c097c371db1b56209bb3af580e9a9345b8f0104eadaeed7f26ccc"
    }
   }
  }
 },
 "nbformat": 4,
 "nbformat_minor": 2,
 "cells": [
  {
   "cell_type": "code",
   "execution_count": 2,
   "metadata": {},
   "outputs": [],
   "source": [
    "import numpy as np\n",
    "import pandas as pd\n",
    "import matplotlib as mpl\n",
    "import matplotlib.pyplot as plt\n",
    "import seaborn as sb\n",
    "%matplotlib inline\n",
    "from sklearn.model_selection import train_test_split, KFold, cross_val_score, cross_validate, GridSearchCV\n",
    "from sklearn.svm import SVC\n",
    "from sklearn.metrics import confusion_matrix, auc, roc_curve\n",
    "from sklearn.linear_model import LogisticRegression\n",
    "from sklearn.preprocessing import PolynomialFeatures"
   ]
  },
  {
   "cell_type": "code",
   "execution_count": 3,
   "metadata": {},
   "outputs": [],
   "source": [
    "data = pd.read_csv('data/OJ.csv').drop(columns=['Unnamed: 0'])\n",
    "data['Purchase_MM'] = [1 if x == 'MM' else 0 for x in data['Purchase']]\n",
    "X = data.drop(columns=['Purchase_MM', 'Purchase', 'Store7'])\n",
    "y = data['Purchase_MM']\n",
    "X_train, X_test, y_train, y_test = train_test_split(X, y, train_size=800, random_state=1)"
   ]
  },
  {
   "cell_type": "code",
   "execution_count": 4,
   "metadata": {},
   "outputs": [
    {
     "output_type": "stream",
     "name": "stdout",
     "text": [
      "Train Accuracy: 0.6900\nTest  Accuracy: 0.6407\n"
     ]
    }
   ],
   "source": [
    "svm = SVC(kernel='linear', C=0.01)\n",
    "svm.fit(X_train, y_train)\n",
    "\n",
    "print('Train Accuracy: {:.4f}'.format(svm.score(X_train, y_train)))\n",
    "print('Test  Accuracy: {:.4f}'.format(svm.score(X_test, y_test)))"
   ]
  },
  {
   "cell_type": "code",
   "execution_count": 5,
   "metadata": {},
   "outputs": [
    {
     "output_type": "execute_result",
     "data": {
      "text/plain": [
       "{'C': 1}"
      ]
     },
     "metadata": {},
     "execution_count": 5
    }
   ],
   "source": [
    "tuned_parameters = [{'C': [0.01, 0.1, 1, 10]}]\n",
    "clf = GridSearchCV(SVC(kernel='linear'), tuned_parameters, cv=5, scoring='accuracy')\n",
    "clf.fit(X, y)\n",
    "clf.best_params_"
   ]
  },
  {
   "cell_type": "code",
   "execution_count": 6,
   "metadata": {},
   "outputs": [
    {
     "output_type": "stream",
     "name": "stdout",
     "text": [
      "Train Accuracy: 0.6900\nTest  Accuracy: 0.6407\n"
     ]
    }
   ],
   "source": [
    "svm = SVC(kernel='linear', C=0.01)\n",
    "svm.fit(X_train, y_train)\n",
    "\n",
    "print('Train Accuracy: {:.4f}'.format(svm.score(X_train, y_train)))\n",
    "print('Test  Accuracy: {:.4f}'.format(svm.score(X_test, y_test)))"
   ]
  },
  {
   "cell_type": "code",
   "execution_count": null,
   "metadata": {},
   "outputs": [],
   "source": [
    "svm = SVC(kernel='rbf', C=1000, gamma=0.001)\n",
    "svm.fit(X_train, y_train)\n",
    "\n",
    "print('Train Accuracy: {:.4f}'.format(svm.score(X_train, y_train)))\n",
    "print('Test  Accuracy: {:.4f}'.format(svm.score(X_test, y_test)))"
   ]
  },
  {
   "cell_type": "code",
   "execution_count": 7,
   "metadata": {},
   "outputs": [
    {
     "output_type": "execute_result",
     "data": {
      "text/plain": [
       "{'C': 1000, 'gamma': 0.001}"
      ]
     },
     "metadata": {},
     "execution_count": 7
    }
   ],
   "source": [
    "tuned_parameters = [{'C': [0.01, 0.1, 1, 5, 10, 100, 1000], 'gamma': [0.001, 0.01, 0.1, 1, 5, 10, 100]}]\n",
    "clf = GridSearchCV(SVC(kernel='rbf'), tuned_parameters, cv=10, scoring='accuracy')\n",
    "clf.fit(X, y)\n",
    "clf.best_params_"
   ]
  },
  {
   "cell_type": "code",
   "execution_count": null,
   "metadata": {},
   "outputs": [],
   "source": [
    "svm = SVC(kernel='poly', degree=2, C=10000)\n",
    "svm.fit(X_train, y_train)\n",
    "\n",
    "print('Train Accuracy: {:.4f}'.format(svm.score(X_train, y_train)))\n",
    "print('Test  Accuracy: {:.4f}'.format(svm.score(X_test, y_test)))"
   ]
  },
  {
   "cell_type": "code",
   "execution_count": 8,
   "metadata": {},
   "outputs": [
    {
     "output_type": "execute_result",
     "data": {
      "text/plain": [
       "{'C': 10000}"
      ]
     },
     "metadata": {},
     "execution_count": 8
    }
   ],
   "source": [
    "tuned_parameters = [{'C': [0.01, 0.1, 1, 5, 10, 100, 500, 1000, 5000, 10000]}]\n",
    "clf = GridSearchCV(SVC(kernel='poly', degree=2), tuned_parameters, cv=10, scoring='accuracy')\n",
    "clf.fit(X, y)\n",
    "clf.best_params_"
   ]
  },
  {
   "cell_type": "markdown",
   "metadata": {},
   "source": [
    "### Best result"
   ]
  },
  {
   "cell_type": "code",
   "execution_count": null,
   "metadata": {},
   "outputs": [],
   "source": []
  }
 ]
}