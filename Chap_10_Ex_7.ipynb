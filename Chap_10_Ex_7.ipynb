{
 "metadata": {
  "language_info": {
   "codemirror_mode": {
    "name": "ipython",
    "version": 3
   },
   "file_extension": ".py",
   "mimetype": "text/x-python",
   "name": "python",
   "nbconvert_exporter": "python",
   "pygments_lexer": "ipython3",
   "version": "3.7.7-final"
  },
  "orig_nbformat": 2,
  "kernelspec": {
   "name": "Python 3.7.7 64-bit ('ai_learn': conda)",
   "display_name": "Python 3.7.7 64-bit ('ai_learn': conda)",
   "metadata": {
    "interpreter": {
     "hash": "0d8bca8ec97c097c371db1b56209bb3af580e9a9345b8f0104eadaeed7f26ccc"
    }
   }
  }
 },
 "nbformat": 4,
 "nbformat_minor": 2,
 "cells": [
  {
   "cell_type": "code",
   "execution_count": 1,
   "metadata": {},
   "outputs": [],
   "source": [
    "import numpy as np\n",
    "import pandas as pd\n",
    "import matplotlib as mpl\n",
    "import matplotlib.pyplot as plt\n",
    "import seaborn as sb\n",
    "%matplotlib inline\n",
    "from sklearn.decomposition import PCA\n",
    "from sklearn.preprocessing import StandardScaler"
   ]
  },
  {
   "cell_type": "code",
   "execution_count": 4,
   "metadata": {},
   "outputs": [
    {
     "output_type": "execute_result",
     "data": {
      "text/plain": [
       "            Murder  Assault  UrbanPop  Rape\n",
       "Alabama       13.2      236        58  21.2\n",
       "Alaska        10.0      263        48  44.5\n",
       "Arizona        8.1      294        80  31.0\n",
       "Arkansas       8.8      190        50  19.5\n",
       "California     9.0      276        91  40.6"
      ],
      "text/html": "<div>\n<style scoped>\n    .dataframe tbody tr th:only-of-type {\n        vertical-align: middle;\n    }\n\n    .dataframe tbody tr th {\n        vertical-align: top;\n    }\n\n    .dataframe thead th {\n        text-align: right;\n    }\n</style>\n<table border=\"1\" class=\"dataframe\">\n  <thead>\n    <tr style=\"text-align: right;\">\n      <th></th>\n      <th>Murder</th>\n      <th>Assault</th>\n      <th>UrbanPop</th>\n      <th>Rape</th>\n    </tr>\n  </thead>\n  <tbody>\n    <tr>\n      <th>Alabama</th>\n      <td>13.2</td>\n      <td>236</td>\n      <td>58</td>\n      <td>21.2</td>\n    </tr>\n    <tr>\n      <th>Alaska</th>\n      <td>10.0</td>\n      <td>263</td>\n      <td>48</td>\n      <td>44.5</td>\n    </tr>\n    <tr>\n      <th>Arizona</th>\n      <td>8.1</td>\n      <td>294</td>\n      <td>80</td>\n      <td>31.0</td>\n    </tr>\n    <tr>\n      <th>Arkansas</th>\n      <td>8.8</td>\n      <td>190</td>\n      <td>50</td>\n      <td>19.5</td>\n    </tr>\n    <tr>\n      <th>California</th>\n      <td>9.0</td>\n      <td>276</td>\n      <td>91</td>\n      <td>40.6</td>\n    </tr>\n  </tbody>\n</table>\n</div>"
     },
     "metadata": {},
     "execution_count": 4
    }
   ],
   "source": [
    "data = pd.read_csv('data/USArrests.csv', index_col=0)\n",
    "data.head()"
   ]
  },
  {
   "cell_type": "code",
   "execution_count": 6,
   "metadata": {},
   "outputs": [
    {
     "output_type": "execute_result",
     "data": {
      "text/plain": [
       "     Murder   Assault  UrbanPop      Rape\n",
       "0  1.255179  0.790787 -0.526195 -0.003451\n",
       "1  0.513019  1.118060 -1.224067  2.509424\n",
       "2  0.072361  1.493817  1.009122  1.053466\n",
       "3  0.234708  0.233212 -1.084492 -0.186794\n",
       "4  0.281093  1.275635  1.776781  2.088814"
      ],
      "text/html": "<div>\n<style scoped>\n    .dataframe tbody tr th:only-of-type {\n        vertical-align: middle;\n    }\n\n    .dataframe tbody tr th {\n        vertical-align: top;\n    }\n\n    .dataframe thead th {\n        text-align: right;\n    }\n</style>\n<table border=\"1\" class=\"dataframe\">\n  <thead>\n    <tr style=\"text-align: right;\">\n      <th></th>\n      <th>Murder</th>\n      <th>Assault</th>\n      <th>UrbanPop</th>\n      <th>Rape</th>\n    </tr>\n  </thead>\n  <tbody>\n    <tr>\n      <th>0</th>\n      <td>1.255179</td>\n      <td>0.790787</td>\n      <td>-0.526195</td>\n      <td>-0.003451</td>\n    </tr>\n    <tr>\n      <th>1</th>\n      <td>0.513019</td>\n      <td>1.118060</td>\n      <td>-1.224067</td>\n      <td>2.509424</td>\n    </tr>\n    <tr>\n      <th>2</th>\n      <td>0.072361</td>\n      <td>1.493817</td>\n      <td>1.009122</td>\n      <td>1.053466</td>\n    </tr>\n    <tr>\n      <th>3</th>\n      <td>0.234708</td>\n      <td>0.233212</td>\n      <td>-1.084492</td>\n      <td>-0.186794</td>\n    </tr>\n    <tr>\n      <th>4</th>\n      <td>0.281093</td>\n      <td>1.275635</td>\n      <td>1.776781</td>\n      <td>2.088814</td>\n    </tr>\n  </tbody>\n</table>\n</div>"
     },
     "metadata": {},
     "execution_count": 6
    }
   ],
   "source": [
    "X = pd.DataFrame(StandardScaler().fit_transform(data), columns=data.columns)\n",
    "X.head()"
   ]
  },
  {
   "cell_type": "code",
   "execution_count": 18,
   "metadata": {},
   "outputs": [],
   "source": [
    "d1 = []\n",
    "for i in X.index:\n",
    "    for j in X.index:\n",
    "        r = np.correlate(X.iloc[i], X.iloc[j])[0]\n",
    "        d1.append(1-r)\n",
    "d1 = np.array(d1)"
   ]
  },
  {
   "cell_type": "code",
   "execution_count": 19,
   "metadata": {},
   "outputs": [],
   "source": [
    "d2 = []\n",
    "for i in X.index:\n",
    "    for j in X.index:\n",
    "        d2.append(np.linalg.norm(X.iloc[i] - X.iloc[j])**2)\n",
    "d2 = np.array(d2)"
   ]
  },
  {
   "cell_type": "code",
   "execution_count": 31,
   "metadata": {},
   "outputs": [
    {
     "output_type": "execute_result",
     "data": {
      "text/plain": [
       "                 0\n",
       "count  2450.000000\n",
       "mean     -0.264310\n",
       "std       3.216922\n",
       "min    -101.290549\n",
       "25%      -0.074767\n",
       "50%       0.182857\n",
       "75%       0.276872\n",
       "max       3.152257"
      ],
      "text/html": "<div>\n<style scoped>\n    .dataframe tbody tr th:only-of-type {\n        vertical-align: middle;\n    }\n\n    .dataframe tbody tr th {\n        vertical-align: top;\n    }\n\n    .dataframe thead th {\n        text-align: right;\n    }\n</style>\n<table border=\"1\" class=\"dataframe\">\n  <thead>\n    <tr style=\"text-align: right;\">\n      <th></th>\n      <th>0</th>\n    </tr>\n  </thead>\n  <tbody>\n    <tr>\n      <th>count</th>\n      <td>2450.000000</td>\n    </tr>\n    <tr>\n      <th>mean</th>\n      <td>-0.264310</td>\n    </tr>\n    <tr>\n      <th>std</th>\n      <td>3.216922</td>\n    </tr>\n    <tr>\n      <th>min</th>\n      <td>-101.290549</td>\n    </tr>\n    <tr>\n      <th>25%</th>\n      <td>-0.074767</td>\n    </tr>\n    <tr>\n      <th>50%</th>\n      <td>0.182857</td>\n    </tr>\n    <tr>\n      <th>75%</th>\n      <td>0.276872</td>\n    </tr>\n    <tr>\n      <th>max</th>\n      <td>3.152257</td>\n    </tr>\n  </tbody>\n</table>\n</div>"
     },
     "metadata": {},
     "execution_count": 31
    }
   ],
   "source": [
    "proportional = pd.DataFrame([x/y for x, y in zip(d1, d2)]).replace([np.inf, -np.inf], np.nan).dropna()\n",
    "proportional.describe()"
   ]
  }
 ]
}