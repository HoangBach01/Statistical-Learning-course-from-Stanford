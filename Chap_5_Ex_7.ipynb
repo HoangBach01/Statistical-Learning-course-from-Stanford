{
 "metadata": {
  "language_info": {
   "codemirror_mode": {
    "name": "ipython",
    "version": 3
   },
   "file_extension": ".py",
   "mimetype": "text/x-python",
   "name": "python",
   "nbconvert_exporter": "python",
   "pygments_lexer": "ipython3",
   "version": "3.7.7-final"
  },
  "orig_nbformat": 2,
  "kernelspec": {
   "name": "Python 3.7.7 64-bit",
   "display_name": "Python 3.7.7 64-bit",
   "metadata": {
    "interpreter": {
     "hash": "0d8bca8ec97c097c371db1b56209bb3af580e9a9345b8f0104eadaeed7f26ccc"
    }
   }
  }
 },
 "nbformat": 4,
 "nbformat_minor": 2,
 "cells": [
  {
   "cell_type": "code",
   "execution_count": 2,
   "metadata": {},
   "outputs": [],
   "source": [
    "import numpy as np\n",
    "import pandas as pd\n",
    "import matplotlib.pyplot as plt\n",
    "import seaborn as sb\n",
    "%matplotlib inline\n",
    "import statsmodels.formula.api as smf\n",
    "import statsmodels.api as sm\n",
    "from sklearn.linear_model import LogisticRegression, LogisticRegressionCV\n",
    "from sklearn.model_selection import cross_val_score, KFold, LeaveOneOut"
   ]
  },
  {
   "cell_type": "code",
   "execution_count": 3,
   "metadata": {},
   "outputs": [
    {
     "output_type": "execute_result",
     "data": {
      "text/plain": [
       "      Year   Lag1   Lag2   Lag3   Lag4   Lag5    Volume  Today Direction  \\\n",
       "0     1990  0.816  1.572 -3.936 -0.229 -3.484  0.154976 -0.270      Down   \n",
       "1     1990 -0.270  0.816  1.572 -3.936 -0.229  0.148574 -2.576      Down   \n",
       "2     1990 -2.576 -0.270  0.816  1.572 -3.936  0.159837  3.514        Up   \n",
       "3     1990  3.514 -2.576 -0.270  0.816  1.572  0.161630  0.712        Up   \n",
       "4     1990  0.712  3.514 -2.576 -0.270  0.816  0.153728  1.178        Up   \n",
       "...    ...    ...    ...    ...    ...    ...       ...    ...       ...   \n",
       "1084  2010 -0.861  0.043 -2.173  3.599  0.015  3.205160  2.969        Up   \n",
       "1085  2010  2.969 -0.861  0.043 -2.173  3.599  4.242568  1.281        Up   \n",
       "1086  2010  1.281  2.969 -0.861  0.043 -2.173  4.835082  0.283        Up   \n",
       "1087  2010  0.283  1.281  2.969 -0.861  0.043  4.454044  1.034        Up   \n",
       "1088  2010  1.034  0.283  1.281  2.969 -0.861  2.707105  0.069        Up   \n",
       "\n",
       "      Direc_Up  \n",
       "0            0  \n",
       "1            0  \n",
       "2            1  \n",
       "3            1  \n",
       "4            1  \n",
       "...        ...  \n",
       "1084         1  \n",
       "1085         1  \n",
       "1086         1  \n",
       "1087         1  \n",
       "1088         1  \n",
       "\n",
       "[1089 rows x 10 columns]"
      ],
      "text/html": "<div>\n<style scoped>\n    .dataframe tbody tr th:only-of-type {\n        vertical-align: middle;\n    }\n\n    .dataframe tbody tr th {\n        vertical-align: top;\n    }\n\n    .dataframe thead th {\n        text-align: right;\n    }\n</style>\n<table border=\"1\" class=\"dataframe\">\n  <thead>\n    <tr style=\"text-align: right;\">\n      <th></th>\n      <th>Year</th>\n      <th>Lag1</th>\n      <th>Lag2</th>\n      <th>Lag3</th>\n      <th>Lag4</th>\n      <th>Lag5</th>\n      <th>Volume</th>\n      <th>Today</th>\n      <th>Direction</th>\n      <th>Direc_Up</th>\n    </tr>\n  </thead>\n  <tbody>\n    <tr>\n      <th>0</th>\n      <td>1990</td>\n      <td>0.816</td>\n      <td>1.572</td>\n      <td>-3.936</td>\n      <td>-0.229</td>\n      <td>-3.484</td>\n      <td>0.154976</td>\n      <td>-0.270</td>\n      <td>Down</td>\n      <td>0</td>\n    </tr>\n    <tr>\n      <th>1</th>\n      <td>1990</td>\n      <td>-0.270</td>\n      <td>0.816</td>\n      <td>1.572</td>\n      <td>-3.936</td>\n      <td>-0.229</td>\n      <td>0.148574</td>\n      <td>-2.576</td>\n      <td>Down</td>\n      <td>0</td>\n    </tr>\n    <tr>\n      <th>2</th>\n      <td>1990</td>\n      <td>-2.576</td>\n      <td>-0.270</td>\n      <td>0.816</td>\n      <td>1.572</td>\n      <td>-3.936</td>\n      <td>0.159837</td>\n      <td>3.514</td>\n      <td>Up</td>\n      <td>1</td>\n    </tr>\n    <tr>\n      <th>3</th>\n      <td>1990</td>\n      <td>3.514</td>\n      <td>-2.576</td>\n      <td>-0.270</td>\n      <td>0.816</td>\n      <td>1.572</td>\n      <td>0.161630</td>\n      <td>0.712</td>\n      <td>Up</td>\n      <td>1</td>\n    </tr>\n    <tr>\n      <th>4</th>\n      <td>1990</td>\n      <td>0.712</td>\n      <td>3.514</td>\n      <td>-2.576</td>\n      <td>-0.270</td>\n      <td>0.816</td>\n      <td>0.153728</td>\n      <td>1.178</td>\n      <td>Up</td>\n      <td>1</td>\n    </tr>\n    <tr>\n      <th>...</th>\n      <td>...</td>\n      <td>...</td>\n      <td>...</td>\n      <td>...</td>\n      <td>...</td>\n      <td>...</td>\n      <td>...</td>\n      <td>...</td>\n      <td>...</td>\n      <td>...</td>\n    </tr>\n    <tr>\n      <th>1084</th>\n      <td>2010</td>\n      <td>-0.861</td>\n      <td>0.043</td>\n      <td>-2.173</td>\n      <td>3.599</td>\n      <td>0.015</td>\n      <td>3.205160</td>\n      <td>2.969</td>\n      <td>Up</td>\n      <td>1</td>\n    </tr>\n    <tr>\n      <th>1085</th>\n      <td>2010</td>\n      <td>2.969</td>\n      <td>-0.861</td>\n      <td>0.043</td>\n      <td>-2.173</td>\n      <td>3.599</td>\n      <td>4.242568</td>\n      <td>1.281</td>\n      <td>Up</td>\n      <td>1</td>\n    </tr>\n    <tr>\n      <th>1086</th>\n      <td>2010</td>\n      <td>1.281</td>\n      <td>2.969</td>\n      <td>-0.861</td>\n      <td>0.043</td>\n      <td>-2.173</td>\n      <td>4.835082</td>\n      <td>0.283</td>\n      <td>Up</td>\n      <td>1</td>\n    </tr>\n    <tr>\n      <th>1087</th>\n      <td>2010</td>\n      <td>0.283</td>\n      <td>1.281</td>\n      <td>2.969</td>\n      <td>-0.861</td>\n      <td>0.043</td>\n      <td>4.454044</td>\n      <td>1.034</td>\n      <td>Up</td>\n      <td>1</td>\n    </tr>\n    <tr>\n      <th>1088</th>\n      <td>2010</td>\n      <td>1.034</td>\n      <td>0.283</td>\n      <td>1.281</td>\n      <td>2.969</td>\n      <td>-0.861</td>\n      <td>2.707105</td>\n      <td>0.069</td>\n      <td>Up</td>\n      <td>1</td>\n    </tr>\n  </tbody>\n</table>\n<p>1089 rows × 10 columns</p>\n</div>"
     },
     "metadata": {},
     "execution_count": 3
    }
   ],
   "source": [
    "data = pd.read_csv('data/Weekly.csv')\n",
    "data['Direc_Up'] = pd.get_dummies(data['Direction'])['Up']\n",
    "data"
   ]
  },
  {
   "cell_type": "code",
   "execution_count": 4,
   "metadata": {},
   "outputs": [
    {
     "output_type": "stream",
     "name": "stdout",
     "text": [
      "                 Generalized Linear Model Regression Results                  \n==============================================================================\nDep. Variable:               Direc_Up   No. Observations:                 1089\nModel:                            GLM   Df Residuals:                     1086\nModel Family:                Binomial   Df Model:                            2\nLink Function:                  logit   Scale:                          1.0000\nMethod:                          IRLS   Log-Likelihood:                -744.11\nDate:                Sun, 11 Oct 2020   Deviance:                       1488.2\nTime:                        19:19:41   Pearson chi2:                 1.09e+03\nNo. Iterations:                     4                                         \nCovariance Type:            nonrobust                                         \n==============================================================================\n                 coef    std err          z      P>|z|      [0.025      0.975]\n------------------------------------------------------------------------------\nIntercept      0.2212      0.061      3.599      0.000       0.101       0.342\nLag1          -0.0387      0.026     -1.477      0.140      -0.090       0.013\nLag2           0.0602      0.027      2.270      0.023       0.008       0.112\n==============================================================================\n"
     ]
    }
   ],
   "source": [
    "# Perform Logistics Regression by smf\n",
    "stats_model = smf.glm(formula='Direc_Up ~ Lag1 + Lag2', data=data, family=sm.families.Binomial()).fit()\n",
    "print(stats_model.summary())"
   ]
  },
  {
   "cell_type": "code",
   "execution_count": 5,
   "metadata": {},
   "outputs": [
    {
     "output_type": "stream",
     "name": "stdout",
     "text": [
      "Training test error: 0.4444\n"
     ]
    }
   ],
   "source": [
    "stats_model_pred = [1 if x > 0.5 else 0 for x in stats_model.predict()]\n",
    "print('Training test error: %.4f' %(1-np.mean(stats_model_pred==data['Direc_Up'])))"
   ]
  },
  {
   "cell_type": "code",
   "execution_count": 6,
   "metadata": {},
   "outputs": [
    {
     "output_type": "stream",
     "name": "stdout",
     "text": [
      "Test error: 0.44995\n"
     ]
    }
   ],
   "source": [
    "# Perform LOOCV using KFold for n_splits = n\n",
    "crossvalidation = KFold(n_splits=1089, shuffle=False)\n",
    "model = LogisticRegression()\n",
    "scores = cross_val_score(model, data[['Lag1', 'Lag2']], data['Direc_Up'], cv=crossvalidation)\n",
    "print('Test error: %.5f' %(1-np.mean(scores)))"
   ]
  },
  {
   "cell_type": "code",
   "execution_count": 7,
   "metadata": {},
   "outputs": [
    {
     "output_type": "stream",
     "name": "stdout",
     "text": [
      "Test error: 0.44995\n"
     ]
    }
   ],
   "source": [
    "# Perform LOOCV using for loops\n",
    "result =[]\n",
    "for i in range(1089):\n",
    "    data_sample = data.drop([i])\n",
    "    test_sample = data.iloc[i,:]\n",
    "    lm = LogisticRegression().fit(data_sample[['Lag1', 'Lag2']], data_sample['Direc_Up'])\n",
    "    lm_pred = lm.predict(test_sample[['Lag1', 'Lag2']].values.reshape(-1,2))\n",
    "    error = 1 - np.mean(lm_pred==test_sample['Direc_Up'])\n",
    "    result.append(error)\n",
    "print('Test error: %.5f' %(np.mean(result))) "
   ]
  },
  {
   "cell_type": "code",
   "execution_count": null,
   "metadata": {},
   "outputs": [],
   "source": []
  }
 ]
}