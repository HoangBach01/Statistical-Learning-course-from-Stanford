{
 "metadata": {
  "language_info": {
   "codemirror_mode": {
    "name": "ipython",
    "version": 3
   },
   "file_extension": ".py",
   "mimetype": "text/x-python",
   "name": "python",
   "nbconvert_exporter": "python",
   "pygments_lexer": "ipython3",
   "version": "3.7.7-final"
  },
  "orig_nbformat": 2,
  "kernelspec": {
   "name": "Python 3.7.7 64-bit",
   "display_name": "Python 3.7.7 64-bit",
   "metadata": {
    "interpreter": {
     "hash": "0d8bca8ec97c097c371db1b56209bb3af580e9a9345b8f0104eadaeed7f26ccc"
    }
   }
  }
 },
 "nbformat": 4,
 "nbformat_minor": 2,
 "cells": [
  {
   "cell_type": "code",
   "execution_count": 2,
   "metadata": {},
   "outputs": [],
   "source": [
    "import numpy as np\n",
    "import pandas as pd\n",
    "import matplotlib.pyplot as plt\n",
    "import seaborn as sb\n",
    "%matplotlib inline\n",
    "import itertools\n",
    "import time\n",
    "import statsmodels.api as sm\n",
    "from sklearn.metrics import mean_squared_error\n",
    "from sklearn.model_selection import train_test_split, KFold"
   ]
  },
  {
   "cell_type": "code",
   "execution_count": 3,
   "metadata": {},
   "outputs": [
    {
     "output_type": "execute_result",
     "data": {
      "text/plain": [
       "     AtBat  Hits  HmRun  Runs  RBI  Walks  Years  CAtBat  CHits  CHmRun  \\\n",
       "1      315    81      7    24   38     39     14    3449    835      69   \n",
       "2      479   130     18    66   72     76      3    1624    457      63   \n",
       "3      496   141     20    65   78     37     11    5628   1575     225   \n",
       "4      321    87     10    39   42     30      2     396    101      12   \n",
       "5      594   169      4    74   51     35     11    4408   1133      19   \n",
       "..     ...   ...    ...   ...  ...    ...    ...     ...    ...     ...   \n",
       "317    497   127      7    65   48     37      5    2703    806      32   \n",
       "318    492   136      5    76   50     94     12    5511   1511      39   \n",
       "319    475   126      3    61   43     52      6    1700    433       7   \n",
       "320    573   144      9    85   60     78      8    3198    857      97   \n",
       "321    631   170      9    77   44     31     11    4908   1457      30   \n",
       "\n",
       "     CRuns  CRBI  CWalks League Division  PutOuts  Assists  Errors  Salary  \\\n",
       "1      321   414     375      N        W      632       43      10   475.0   \n",
       "2      224   266     263      A        W      880       82      14   480.0   \n",
       "3      828   838     354      N        E      200       11       3   500.0   \n",
       "4       48    46      33      N        E      805       40       4    91.5   \n",
       "5      501   336     194      A        W      282      421      25   750.0   \n",
       "..     ...   ...     ...    ...      ...      ...      ...     ...     ...   \n",
       "317    379   311     138      N        E      325        9       3   700.0   \n",
       "318    897   451     875      A        E      313      381      20   875.0   \n",
       "319    217    93     146      A        W       37      113       7   385.0   \n",
       "320    470   420     332      A        E     1314      131      12   960.0   \n",
       "321    775   357     249      A        W      408        4       3  1000.0   \n",
       "\n",
       "    NewLeague  \n",
       "1           N  \n",
       "2           A  \n",
       "3           N  \n",
       "4           N  \n",
       "5           A  \n",
       "..        ...  \n",
       "317         N  \n",
       "318         A  \n",
       "319         A  \n",
       "320         A  \n",
       "321         A  \n",
       "\n",
       "[263 rows x 20 columns]"
      ],
      "text/html": "<div>\n<style scoped>\n    .dataframe tbody tr th:only-of-type {\n        vertical-align: middle;\n    }\n\n    .dataframe tbody tr th {\n        vertical-align: top;\n    }\n\n    .dataframe thead th {\n        text-align: right;\n    }\n</style>\n<table border=\"1\" class=\"dataframe\">\n  <thead>\n    <tr style=\"text-align: right;\">\n      <th></th>\n      <th>AtBat</th>\n      <th>Hits</th>\n      <th>HmRun</th>\n      <th>Runs</th>\n      <th>RBI</th>\n      <th>Walks</th>\n      <th>Years</th>\n      <th>CAtBat</th>\n      <th>CHits</th>\n      <th>CHmRun</th>\n      <th>CRuns</th>\n      <th>CRBI</th>\n      <th>CWalks</th>\n      <th>League</th>\n      <th>Division</th>\n      <th>PutOuts</th>\n      <th>Assists</th>\n      <th>Errors</th>\n      <th>Salary</th>\n      <th>NewLeague</th>\n    </tr>\n  </thead>\n  <tbody>\n    <tr>\n      <th>1</th>\n      <td>315</td>\n      <td>81</td>\n      <td>7</td>\n      <td>24</td>\n      <td>38</td>\n      <td>39</td>\n      <td>14</td>\n      <td>3449</td>\n      <td>835</td>\n      <td>69</td>\n      <td>321</td>\n      <td>414</td>\n      <td>375</td>\n      <td>N</td>\n      <td>W</td>\n      <td>632</td>\n      <td>43</td>\n      <td>10</td>\n      <td>475.0</td>\n      <td>N</td>\n    </tr>\n    <tr>\n      <th>2</th>\n      <td>479</td>\n      <td>130</td>\n      <td>18</td>\n      <td>66</td>\n      <td>72</td>\n      <td>76</td>\n      <td>3</td>\n      <td>1624</td>\n      <td>457</td>\n      <td>63</td>\n      <td>224</td>\n      <td>266</td>\n      <td>263</td>\n      <td>A</td>\n      <td>W</td>\n      <td>880</td>\n      <td>82</td>\n      <td>14</td>\n      <td>480.0</td>\n      <td>A</td>\n    </tr>\n    <tr>\n      <th>3</th>\n      <td>496</td>\n      <td>141</td>\n      <td>20</td>\n      <td>65</td>\n      <td>78</td>\n      <td>37</td>\n      <td>11</td>\n      <td>5628</td>\n      <td>1575</td>\n      <td>225</td>\n      <td>828</td>\n      <td>838</td>\n      <td>354</td>\n      <td>N</td>\n      <td>E</td>\n      <td>200</td>\n      <td>11</td>\n      <td>3</td>\n      <td>500.0</td>\n      <td>N</td>\n    </tr>\n    <tr>\n      <th>4</th>\n      <td>321</td>\n      <td>87</td>\n      <td>10</td>\n      <td>39</td>\n      <td>42</td>\n      <td>30</td>\n      <td>2</td>\n      <td>396</td>\n      <td>101</td>\n      <td>12</td>\n      <td>48</td>\n      <td>46</td>\n      <td>33</td>\n      <td>N</td>\n      <td>E</td>\n      <td>805</td>\n      <td>40</td>\n      <td>4</td>\n      <td>91.5</td>\n      <td>N</td>\n    </tr>\n    <tr>\n      <th>5</th>\n      <td>594</td>\n      <td>169</td>\n      <td>4</td>\n      <td>74</td>\n      <td>51</td>\n      <td>35</td>\n      <td>11</td>\n      <td>4408</td>\n      <td>1133</td>\n      <td>19</td>\n      <td>501</td>\n      <td>336</td>\n      <td>194</td>\n      <td>A</td>\n      <td>W</td>\n      <td>282</td>\n      <td>421</td>\n      <td>25</td>\n      <td>750.0</td>\n      <td>A</td>\n    </tr>\n    <tr>\n      <th>...</th>\n      <td>...</td>\n      <td>...</td>\n      <td>...</td>\n      <td>...</td>\n      <td>...</td>\n      <td>...</td>\n      <td>...</td>\n      <td>...</td>\n      <td>...</td>\n      <td>...</td>\n      <td>...</td>\n      <td>...</td>\n      <td>...</td>\n      <td>...</td>\n      <td>...</td>\n      <td>...</td>\n      <td>...</td>\n      <td>...</td>\n      <td>...</td>\n      <td>...</td>\n    </tr>\n    <tr>\n      <th>317</th>\n      <td>497</td>\n      <td>127</td>\n      <td>7</td>\n      <td>65</td>\n      <td>48</td>\n      <td>37</td>\n      <td>5</td>\n      <td>2703</td>\n      <td>806</td>\n      <td>32</td>\n      <td>379</td>\n      <td>311</td>\n      <td>138</td>\n      <td>N</td>\n      <td>E</td>\n      <td>325</td>\n      <td>9</td>\n      <td>3</td>\n      <td>700.0</td>\n      <td>N</td>\n    </tr>\n    <tr>\n      <th>318</th>\n      <td>492</td>\n      <td>136</td>\n      <td>5</td>\n      <td>76</td>\n      <td>50</td>\n      <td>94</td>\n      <td>12</td>\n      <td>5511</td>\n      <td>1511</td>\n      <td>39</td>\n      <td>897</td>\n      <td>451</td>\n      <td>875</td>\n      <td>A</td>\n      <td>E</td>\n      <td>313</td>\n      <td>381</td>\n      <td>20</td>\n      <td>875.0</td>\n      <td>A</td>\n    </tr>\n    <tr>\n      <th>319</th>\n      <td>475</td>\n      <td>126</td>\n      <td>3</td>\n      <td>61</td>\n      <td>43</td>\n      <td>52</td>\n      <td>6</td>\n      <td>1700</td>\n      <td>433</td>\n      <td>7</td>\n      <td>217</td>\n      <td>93</td>\n      <td>146</td>\n      <td>A</td>\n      <td>W</td>\n      <td>37</td>\n      <td>113</td>\n      <td>7</td>\n      <td>385.0</td>\n      <td>A</td>\n    </tr>\n    <tr>\n      <th>320</th>\n      <td>573</td>\n      <td>144</td>\n      <td>9</td>\n      <td>85</td>\n      <td>60</td>\n      <td>78</td>\n      <td>8</td>\n      <td>3198</td>\n      <td>857</td>\n      <td>97</td>\n      <td>470</td>\n      <td>420</td>\n      <td>332</td>\n      <td>A</td>\n      <td>E</td>\n      <td>1314</td>\n      <td>131</td>\n      <td>12</td>\n      <td>960.0</td>\n      <td>A</td>\n    </tr>\n    <tr>\n      <th>321</th>\n      <td>631</td>\n      <td>170</td>\n      <td>9</td>\n      <td>77</td>\n      <td>44</td>\n      <td>31</td>\n      <td>11</td>\n      <td>4908</td>\n      <td>1457</td>\n      <td>30</td>\n      <td>775</td>\n      <td>357</td>\n      <td>249</td>\n      <td>A</td>\n      <td>W</td>\n      <td>408</td>\n      <td>4</td>\n      <td>3</td>\n      <td>1000.0</td>\n      <td>A</td>\n    </tr>\n  </tbody>\n</table>\n<p>263 rows × 20 columns</p>\n</div>"
     },
     "metadata": {},
     "execution_count": 3
    }
   ],
   "source": [
    "data = pd.read_csv('data/Hitters.csv').dropna()\n",
    "data"
   ]
  },
  {
   "cell_type": "code",
   "execution_count": 4,
   "metadata": {},
   "outputs": [
    {
     "output_type": "execute_result",
     "data": {
      "text/plain": [
       "     AtBat  Hits  HmRun  Runs  RBI  Walks  Years  CAtBat  CHits  CHmRun  \\\n",
       "1      315    81      7    24   38     39     14    3449    835      69   \n",
       "2      479   130     18    66   72     76      3    1624    457      63   \n",
       "3      496   141     20    65   78     37     11    5628   1575     225   \n",
       "4      321    87     10    39   42     30      2     396    101      12   \n",
       "5      594   169      4    74   51     35     11    4408   1133      19   \n",
       "..     ...   ...    ...   ...  ...    ...    ...     ...    ...     ...   \n",
       "317    497   127      7    65   48     37      5    2703    806      32   \n",
       "318    492   136      5    76   50     94     12    5511   1511      39   \n",
       "319    475   126      3    61   43     52      6    1700    433       7   \n",
       "320    573   144      9    85   60     78      8    3198    857      97   \n",
       "321    631   170      9    77   44     31     11    4908   1457      30   \n",
       "\n",
       "     CRuns  CRBI  CWalks  PutOuts  Assists  Errors  Salary  League_N  \\\n",
       "1      321   414     375      632       43      10   475.0         1   \n",
       "2      224   266     263      880       82      14   480.0         0   \n",
       "3      828   838     354      200       11       3   500.0         1   \n",
       "4       48    46      33      805       40       4    91.5         1   \n",
       "5      501   336     194      282      421      25   750.0         0   \n",
       "..     ...   ...     ...      ...      ...     ...     ...       ...   \n",
       "317    379   311     138      325        9       3   700.0         1   \n",
       "318    897   451     875      313      381      20   875.0         0   \n",
       "319    217    93     146       37      113       7   385.0         0   \n",
       "320    470   420     332     1314      131      12   960.0         0   \n",
       "321    775   357     249      408        4       3  1000.0         0   \n",
       "\n",
       "     Division_W  NewLeague_N  \n",
       "1             1            1  \n",
       "2             1            0  \n",
       "3             0            1  \n",
       "4             0            1  \n",
       "5             1            0  \n",
       "..          ...          ...  \n",
       "317           0            1  \n",
       "318           0            0  \n",
       "319           1            0  \n",
       "320           0            0  \n",
       "321           1            0  \n",
       "\n",
       "[263 rows x 20 columns]"
      ],
      "text/html": "<div>\n<style scoped>\n    .dataframe tbody tr th:only-of-type {\n        vertical-align: middle;\n    }\n\n    .dataframe tbody tr th {\n        vertical-align: top;\n    }\n\n    .dataframe thead th {\n        text-align: right;\n    }\n</style>\n<table border=\"1\" class=\"dataframe\">\n  <thead>\n    <tr style=\"text-align: right;\">\n      <th></th>\n      <th>AtBat</th>\n      <th>Hits</th>\n      <th>HmRun</th>\n      <th>Runs</th>\n      <th>RBI</th>\n      <th>Walks</th>\n      <th>Years</th>\n      <th>CAtBat</th>\n      <th>CHits</th>\n      <th>CHmRun</th>\n      <th>CRuns</th>\n      <th>CRBI</th>\n      <th>CWalks</th>\n      <th>PutOuts</th>\n      <th>Assists</th>\n      <th>Errors</th>\n      <th>Salary</th>\n      <th>League_N</th>\n      <th>Division_W</th>\n      <th>NewLeague_N</th>\n    </tr>\n  </thead>\n  <tbody>\n    <tr>\n      <th>1</th>\n      <td>315</td>\n      <td>81</td>\n      <td>7</td>\n      <td>24</td>\n      <td>38</td>\n      <td>39</td>\n      <td>14</td>\n      <td>3449</td>\n      <td>835</td>\n      <td>69</td>\n      <td>321</td>\n      <td>414</td>\n      <td>375</td>\n      <td>632</td>\n      <td>43</td>\n      <td>10</td>\n      <td>475.0</td>\n      <td>1</td>\n      <td>1</td>\n      <td>1</td>\n    </tr>\n    <tr>\n      <th>2</th>\n      <td>479</td>\n      <td>130</td>\n      <td>18</td>\n      <td>66</td>\n      <td>72</td>\n      <td>76</td>\n      <td>3</td>\n      <td>1624</td>\n      <td>457</td>\n      <td>63</td>\n      <td>224</td>\n      <td>266</td>\n      <td>263</td>\n      <td>880</td>\n      <td>82</td>\n      <td>14</td>\n      <td>480.0</td>\n      <td>0</td>\n      <td>1</td>\n      <td>0</td>\n    </tr>\n    <tr>\n      <th>3</th>\n      <td>496</td>\n      <td>141</td>\n      <td>20</td>\n      <td>65</td>\n      <td>78</td>\n      <td>37</td>\n      <td>11</td>\n      <td>5628</td>\n      <td>1575</td>\n      <td>225</td>\n      <td>828</td>\n      <td>838</td>\n      <td>354</td>\n      <td>200</td>\n      <td>11</td>\n      <td>3</td>\n      <td>500.0</td>\n      <td>1</td>\n      <td>0</td>\n      <td>1</td>\n    </tr>\n    <tr>\n      <th>4</th>\n      <td>321</td>\n      <td>87</td>\n      <td>10</td>\n      <td>39</td>\n      <td>42</td>\n      <td>30</td>\n      <td>2</td>\n      <td>396</td>\n      <td>101</td>\n      <td>12</td>\n      <td>48</td>\n      <td>46</td>\n      <td>33</td>\n      <td>805</td>\n      <td>40</td>\n      <td>4</td>\n      <td>91.5</td>\n      <td>1</td>\n      <td>0</td>\n      <td>1</td>\n    </tr>\n    <tr>\n      <th>5</th>\n      <td>594</td>\n      <td>169</td>\n      <td>4</td>\n      <td>74</td>\n      <td>51</td>\n      <td>35</td>\n      <td>11</td>\n      <td>4408</td>\n      <td>1133</td>\n      <td>19</td>\n      <td>501</td>\n      <td>336</td>\n      <td>194</td>\n      <td>282</td>\n      <td>421</td>\n      <td>25</td>\n      <td>750.0</td>\n      <td>0</td>\n      <td>1</td>\n      <td>0</td>\n    </tr>\n    <tr>\n      <th>...</th>\n      <td>...</td>\n      <td>...</td>\n      <td>...</td>\n      <td>...</td>\n      <td>...</td>\n      <td>...</td>\n      <td>...</td>\n      <td>...</td>\n      <td>...</td>\n      <td>...</td>\n      <td>...</td>\n      <td>...</td>\n      <td>...</td>\n      <td>...</td>\n      <td>...</td>\n      <td>...</td>\n      <td>...</td>\n      <td>...</td>\n      <td>...</td>\n      <td>...</td>\n    </tr>\n    <tr>\n      <th>317</th>\n      <td>497</td>\n      <td>127</td>\n      <td>7</td>\n      <td>65</td>\n      <td>48</td>\n      <td>37</td>\n      <td>5</td>\n      <td>2703</td>\n      <td>806</td>\n      <td>32</td>\n      <td>379</td>\n      <td>311</td>\n      <td>138</td>\n      <td>325</td>\n      <td>9</td>\n      <td>3</td>\n      <td>700.0</td>\n      <td>1</td>\n      <td>0</td>\n      <td>1</td>\n    </tr>\n    <tr>\n      <th>318</th>\n      <td>492</td>\n      <td>136</td>\n      <td>5</td>\n      <td>76</td>\n      <td>50</td>\n      <td>94</td>\n      <td>12</td>\n      <td>5511</td>\n      <td>1511</td>\n      <td>39</td>\n      <td>897</td>\n      <td>451</td>\n      <td>875</td>\n      <td>313</td>\n      <td>381</td>\n      <td>20</td>\n      <td>875.0</td>\n      <td>0</td>\n      <td>0</td>\n      <td>0</td>\n    </tr>\n    <tr>\n      <th>319</th>\n      <td>475</td>\n      <td>126</td>\n      <td>3</td>\n      <td>61</td>\n      <td>43</td>\n      <td>52</td>\n      <td>6</td>\n      <td>1700</td>\n      <td>433</td>\n      <td>7</td>\n      <td>217</td>\n      <td>93</td>\n      <td>146</td>\n      <td>37</td>\n      <td>113</td>\n      <td>7</td>\n      <td>385.0</td>\n      <td>0</td>\n      <td>1</td>\n      <td>0</td>\n    </tr>\n    <tr>\n      <th>320</th>\n      <td>573</td>\n      <td>144</td>\n      <td>9</td>\n      <td>85</td>\n      <td>60</td>\n      <td>78</td>\n      <td>8</td>\n      <td>3198</td>\n      <td>857</td>\n      <td>97</td>\n      <td>470</td>\n      <td>420</td>\n      <td>332</td>\n      <td>1314</td>\n      <td>131</td>\n      <td>12</td>\n      <td>960.0</td>\n      <td>0</td>\n      <td>0</td>\n      <td>0</td>\n    </tr>\n    <tr>\n      <th>321</th>\n      <td>631</td>\n      <td>170</td>\n      <td>9</td>\n      <td>77</td>\n      <td>44</td>\n      <td>31</td>\n      <td>11</td>\n      <td>4908</td>\n      <td>1457</td>\n      <td>30</td>\n      <td>775</td>\n      <td>357</td>\n      <td>249</td>\n      <td>408</td>\n      <td>4</td>\n      <td>3</td>\n      <td>1000.0</td>\n      <td>0</td>\n      <td>1</td>\n      <td>0</td>\n    </tr>\n  </tbody>\n</table>\n<p>263 rows × 20 columns</p>\n</div>"
     },
     "metadata": {},
     "execution_count": 4
    }
   ],
   "source": [
    "df = pd.get_dummies(data, columns=['League', 'Division', 'NewLeague'], drop_first=True)\n",
    "df"
   ]
  },
  {
   "cell_type": "markdown",
   "metadata": {},
   "source": [
    "### Perform Best subset selection using Min MSE test error through Validation Set"
   ]
  },
  {
   "cell_type": "code",
   "execution_count": 5,
   "metadata": {},
   "outputs": [],
   "source": [
    "X = df.drop(columns='Salary')\n",
    "y = df['Salary']\n",
    "X_train, X_test, y_train, y_test = train_test_split(X, y, train_size=0.7, random_state=1)"
   ]
  },
  {
   "cell_type": "code",
   "execution_count": 6,
   "metadata": {},
   "outputs": [],
   "source": [
    "# Process model on full X, y\n",
    "def linear_model(feature_set, X, y):\n",
    "    # Add Constant\n",
    "    X_const = sm.add_constant(X[list(feature_set)])\n",
    "    # Linear model\n",
    "    lm = sm.OLS(y, X_const).fit()\n",
    "    return lm"
   ]
  },
  {
   "cell_type": "code",
   "execution_count": 7,
   "metadata": {},
   "outputs": [],
   "source": [
    "# Process subset using Validation set to return MSE info\n",
    "def process_subset_validation_set(feature_set, X_train, X_test, y_train, y_test):\n",
    "    # Create X_train, X_test\n",
    "    X_train_const = sm.add_constant(X_train[list(feature_set)])\n",
    "    X_test_const = sm.add_constant(X_test[list(feature_set)])\n",
    "\n",
    "    # Fit model on feature_set and calculate RSS\n",
    "    model = sm.OLS(y_train, X_train_const).fit()\n",
    "\n",
    "    # Calculate MSE\n",
    "    y_pred = model.predict(X_test_const)\n",
    "    MSE = mean_squared_error(y_test, y_pred)\n",
    "\n",
    "    return {\"predictors\": feature_set, \"MSE\": MSE}"
   ]
  },
  {
   "cell_type": "code",
   "execution_count": 8,
   "metadata": {},
   "outputs": [],
   "source": [
    "def process_subset_validation_set_n_times(feature_set, X, y, n):\n",
    "    \n",
    "    MSE_results = []\n",
    "    # Create X_train, X_test\n",
    "    for i in range(n):\n",
    "        X_train, X_test, y_train, y_test = train_test_split(X, y, train_size=0.7, shuffle=True)\n",
    "\n",
    "        X_train_const = sm.add_constant(X_train[list(feature_set)])\n",
    "        X_test_const = sm.add_constant(X_test[list(feature_set)])\n",
    "\n",
    "        # Fit model on feature_set and calculate RSS\n",
    "        model = sm.OLS(y_train, X_train_const).fit()\n",
    "\n",
    "        # Calculate MSE\n",
    "        y_pred = model.predict(X_test_const)\n",
    "        MSE_results.append(mean_squared_error(y_test, y_pred))\n",
    "\n",
    "    return {\"predictors\": feature_set, \"MSE\": np.mean(MSE_results)}"
   ]
  },
  {
   "cell_type": "code",
   "execution_count": 9,
   "metadata": {},
   "outputs": [],
   "source": [
    "def process_subset_k_folds(feature_set, X, y, k):\n",
    "    \n",
    "    MSE_results = []\n",
    "    # Crossvalidation with K-folds\n",
    "    cv = KFold(n_splits=10, random_state=None, shuffle=False)\n",
    "    for train_index, test_index in cv.split(X):\n",
    "\n",
    "        X_train, y_train = X.iloc[train_index], y.iloc[train_index]\n",
    "        X_test, y_test = X.iloc[test_index], y.iloc[test_index]\n",
    "\n",
    "        X_train_const = sm.add_constant(X_train[list(feature_set)])\n",
    "        X_test_const = sm.add_constant(X_test[list(feature_set)])\n",
    "\n",
    "        # Fit model on feature_set and calculate RSS\n",
    "        model = sm.OLS(y_train, X_train_const).fit()\n",
    "\n",
    "        # Calculate MSE\n",
    "        y_pred = model.predict(X_test_const)\n",
    "        MSE_results.append(mean_squared_error(y_test, y_pred))\n",
    "    \n",
    "    return {\"predictors\": feature_set, \"MSE\": np.mean(MSE_results)}"
   ]
  },
  {
   "cell_type": "code",
   "execution_count": 10,
   "metadata": {},
   "outputs": [],
   "source": [
    "def get_best_subset(number_predictors, cv='Validation_set'):\n",
    "    # Counting time\n",
    "    tic = time.time()\n",
    "    predictors = X.columns\n",
    "    results = []\n",
    "\n",
    "    # Run for-loops to append results\n",
    "    if cv=='K_folds':\n",
    "        for feature_set in itertools.combinations(predictors, number_predictors):\n",
    "            results.append(process_subset_k_folds(feature_set, X, y, k=10))        \n",
    "    else:\n",
    "        for feature_set in itertools.combinations(predictors, number_predictors):\n",
    "            results.append(process_subset_validation_set_n_times(feature_set, X, y, n=10))\n",
    "\n",
    "    # Wrap result in dataframe\n",
    "    models = pd.DataFrame(results)\n",
    "\n",
    "    # Choose the model with the lowest MSE\n",
    "    best_model = models.loc[models['MSE'].argmin()]\n",
    "    \n",
    "    toc = time.time()\n",
    "    print(\"Processed {:5} models on {:2} predictors in {:6.2f} seconds.\".format(models.shape[0], number_predictors, (toc-tic)))\n",
    "    \n",
    "    # Return the best model, along with some other useful information about the model\n",
    "    return best_model"
   ]
  },
  {
   "cell_type": "code",
   "execution_count": 11,
   "metadata": {},
   "outputs": [
    {
     "output_type": "stream",
     "name": "stdout",
     "text": [
      "Processed    19 models on  1 predictors in   0.86 seconds.\n",
      "Processed   171 models on  2 predictors in   7.58 seconds.\n",
      "Processed   969 models on  3 predictors in  48.59 seconds.\n",
      "Processed  3876 models on  4 predictors in 195.64 seconds.\n",
      "Total elapsed time: 252.68 seconds.\n"
     ]
    }
   ],
   "source": [
    "models_best_validation_set = pd.DataFrame(columns=[\"predictors\", \"MSE\"])\n",
    "\n",
    "tic = time.time()\n",
    "for i in range(1,5):\n",
    "    models_best_validation_set.loc[i] = get_best_subset(i, cv=\"Validation_set\")\n",
    "\n",
    "toc = time.time()\n",
    "print(\"Total elapsed time: {:.2f} seconds.\".format((toc-tic)))"
   ]
  },
  {
   "cell_type": "code",
   "execution_count": 12,
   "metadata": {},
   "outputs": [
    {
     "output_type": "stream",
     "name": "stdout",
     "text": [
      "Processed    19 models on  1 predictors in   0.89 seconds.\n",
      "Processed   171 models on  2 predictors in   7.95 seconds.\n",
      "Processed   969 models on  3 predictors in  44.72 seconds.\n",
      "Processed  3876 models on  4 predictors in 188.84 seconds.\n",
      "Total elapsed time: 242.41 seconds.\n"
     ]
    }
   ],
   "source": [
    "models_best_k_folds = pd.DataFrame(columns=[\"predictors\", \"MSE\"])\n",
    "\n",
    "tic = time.time()\n",
    "for i in range(1,5):\n",
    "    models_best_k_folds.loc[i] = get_best_subset(i, cv='K_folds')\n",
    "\n",
    "toc = time.time()\n",
    "print(\"Total elapsed time: {:.2f} seconds.\".format((toc-tic)))"
   ]
  },
  {
   "cell_type": "code",
   "execution_count": 13,
   "metadata": {},
   "outputs": [
    {
     "output_type": "execute_result",
     "data": {
      "text/plain": [
       "                         predictors            MSE\n",
       "1                          (CHits,)  134602.009258\n",
       "2                   (Walks, CAtBat)  107341.443257\n",
       "3             (Hits, Years, CHmRun)  101112.434753\n",
       "4  (Runs, CRuns, PutOuts, League_N)   89866.881233"
      ],
      "text/html": "<div>\n<style scoped>\n    .dataframe tbody tr th:only-of-type {\n        vertical-align: middle;\n    }\n\n    .dataframe tbody tr th {\n        vertical-align: top;\n    }\n\n    .dataframe thead th {\n        text-align: right;\n    }\n</style>\n<table border=\"1\" class=\"dataframe\">\n  <thead>\n    <tr style=\"text-align: right;\">\n      <th></th>\n      <th>predictors</th>\n      <th>MSE</th>\n    </tr>\n  </thead>\n  <tbody>\n    <tr>\n      <th>1</th>\n      <td>(CHits,)</td>\n      <td>134602.009258</td>\n    </tr>\n    <tr>\n      <th>2</th>\n      <td>(Walks, CAtBat)</td>\n      <td>107341.443257</td>\n    </tr>\n    <tr>\n      <th>3</th>\n      <td>(Hits, Years, CHmRun)</td>\n      <td>101112.434753</td>\n    </tr>\n    <tr>\n      <th>4</th>\n      <td>(Runs, CRuns, PutOuts, League_N)</td>\n      <td>89866.881233</td>\n    </tr>\n  </tbody>\n</table>\n</div>"
     },
     "metadata": {},
     "execution_count": 13
    }
   ],
   "source": [
    "models_best_validation_set"
   ]
  },
  {
   "cell_type": "code",
   "execution_count": 14,
   "metadata": {},
   "outputs": [
    {
     "output_type": "execute_result",
     "data": {
      "text/plain": [
       "                          predictors            MSE\n",
       "1                            (CRBI,)  142840.888022\n",
       "2                       (Hits, CRBI)  124466.240992\n",
       "3              (Runs, CRBI, PutOuts)  119528.329256\n",
       "4  (Hits, CRBI, PutOuts, Division_W)  114839.706281"
      ],
      "text/html": "<div>\n<style scoped>\n    .dataframe tbody tr th:only-of-type {\n        vertical-align: middle;\n    }\n\n    .dataframe tbody tr th {\n        vertical-align: top;\n    }\n\n    .dataframe thead th {\n        text-align: right;\n    }\n</style>\n<table border=\"1\" class=\"dataframe\">\n  <thead>\n    <tr style=\"text-align: right;\">\n      <th></th>\n      <th>predictors</th>\n      <th>MSE</th>\n    </tr>\n  </thead>\n  <tbody>\n    <tr>\n      <th>1</th>\n      <td>(CRBI,)</td>\n      <td>142840.888022</td>\n    </tr>\n    <tr>\n      <th>2</th>\n      <td>(Hits, CRBI)</td>\n      <td>124466.240992</td>\n    </tr>\n    <tr>\n      <th>3</th>\n      <td>(Runs, CRBI, PutOuts)</td>\n      <td>119528.329256</td>\n    </tr>\n    <tr>\n      <th>4</th>\n      <td>(Hits, CRBI, PutOuts, Division_W)</td>\n      <td>114839.706281</td>\n    </tr>\n  </tbody>\n</table>\n</div>"
     },
     "metadata": {},
     "execution_count": 14
    }
   ],
   "source": [
    "models_best_k_folds"
   ]
  },
  {
   "cell_type": "code",
   "execution_count": 15,
   "metadata": {},
   "outputs": [],
   "source": [
    "# Perform Forward Stepwise Selection\n",
    "def forward_stepwise(predictors, cv=\"Validation_set\"):\n",
    "    \n",
    "    # Pull out predictors we still need to process\n",
    "    remaining_predictors = [p for p in X.columns if p not in predictors]\n",
    "\n",
    "    tic = time.time()\n",
    "\n",
    "    results = []\n",
    "\n",
    "    if cv=='K_folds':\n",
    "        for p in remaining_predictors:\n",
    "            results.append(process_subset_k_folds(predictors + [p], X, y, k=10))\n",
    "    else:\n",
    "        for p in remaining_predictors:\n",
    "            results.append(process_subset_validation_set_n_times(predictors + [p], X, y, n=10))\n",
    "\n",
    "    # Wrap result up in a nice dataframe\n",
    "    models = pd.DataFrame(results)\n",
    "\n",
    "    # Choose model with the highest R2\n",
    "    best_model = models.loc[models['MSE'].argmin()]\n",
    "\n",
    "    toc = time.time()\n",
    "\n",
    "    print('Processed {:3} models on {:2} predictors in {:6.2f} seconds.'.format(models.shape[0], len(predictors)+1, (toc-tic)))\n",
    "    return best_model"
   ]
  },
  {
   "cell_type": "code",
   "execution_count": 16,
   "metadata": {},
   "outputs": [
    {
     "output_type": "stream",
     "name": "stdout",
     "text": [
      "Processed  19 models on  1 predictors in   0.88 seconds.\n",
      "Processed  18 models on  2 predictors in   0.88 seconds.\n",
      "Processed  17 models on  3 predictors in   0.82 seconds.\n",
      "Processed  16 models on  4 predictors in   0.80 seconds.\n",
      "Processed  15 models on  5 predictors in   0.95 seconds.\n",
      "Processed  14 models on  6 predictors in   0.91 seconds.\n",
      "Processed  13 models on  7 predictors in   0.88 seconds.\n",
      "Processed  12 models on  8 predictors in   0.91 seconds.\n",
      "Processed  11 models on  9 predictors in   0.86 seconds.\n",
      "Processed  10 models on 10 predictors in   0.82 seconds.\n",
      "Processed   9 models on 11 predictors in   0.79 seconds.\n",
      "Processed   8 models on 12 predictors in   0.75 seconds.\n",
      "Processed   7 models on 13 predictors in   0.61 seconds.\n",
      "Processed   6 models on 14 predictors in   0.53 seconds.\n",
      "Processed   5 models on 15 predictors in   0.49 seconds.\n",
      "Processed   4 models on 16 predictors in   0.40 seconds.\n",
      "Processed   3 models on 17 predictors in   0.29 seconds.\n",
      "Processed   2 models on 18 predictors in   0.22 seconds.\n",
      "Processed   1 models on 19 predictors in   0.10 seconds.\n",
      "Total elapsed time: 12.94 seconds.\n"
     ]
    }
   ],
   "source": [
    "models_fwd_validation_set = pd.DataFrame(columns=['predictors','MSE'])\n",
    "\n",
    "tic = time.time()\n",
    "predictors = []\n",
    "\n",
    "for i in range(1, len(X.columns)+1):\n",
    "    models_fwd_validation_set.loc[i] = forward_stepwise(predictors, cv='Validation_set')\n",
    "    predictors = list(models_fwd_validation_set.loc[i,'predictors'])\n",
    "\n",
    "toc = time.time()\n",
    "print('Total elapsed time: {:.2f} seconds.'.format(toc-tic))"
   ]
  },
  {
   "cell_type": "code",
   "execution_count": 17,
   "metadata": {},
   "outputs": [
    {
     "output_type": "stream",
     "name": "stdout",
     "text": [
      "Processed  19 models on  1 predictors in   0.84 seconds.\n",
      "Processed  18 models on  2 predictors in   0.86 seconds.\n",
      "Processed  17 models on  3 predictors in   0.83 seconds.\n",
      "Processed  16 models on  4 predictors in   0.95 seconds.\n",
      "Processed  15 models on  5 predictors in   0.93 seconds.\n",
      "Processed  14 models on  6 predictors in   0.88 seconds.\n",
      "Processed  13 models on  7 predictors in   0.87 seconds.\n",
      "Processed  12 models on  8 predictors in   0.83 seconds.\n",
      "Processed  11 models on  9 predictors in   0.79 seconds.\n",
      "Processed  10 models on 10 predictors in   0.71 seconds.\n",
      "Processed   9 models on 11 predictors in   0.72 seconds.\n",
      "Processed   8 models on 12 predictors in   0.67 seconds.\n",
      "Processed   7 models on 13 predictors in   0.58 seconds.\n",
      "Processed   6 models on 14 predictors in   0.51 seconds.\n",
      "Processed   5 models on 15 predictors in   0.43 seconds.\n",
      "Processed   4 models on 16 predictors in   0.37 seconds.\n",
      "Processed   3 models on 17 predictors in   0.27 seconds.\n",
      "Processed   2 models on 18 predictors in   0.18 seconds.\n",
      "Processed   1 models on 19 predictors in   0.10 seconds.\n",
      "Total elapsed time: 12.36 seconds.\n"
     ]
    }
   ],
   "source": [
    "models_fwd_k_folds = pd.DataFrame(columns=['predictors','MSE'])\n",
    "\n",
    "tic = time.time()\n",
    "predictors = []\n",
    "\n",
    "for i in range(1, len(X.columns)+1):\n",
    "    models_fwd_k_folds.loc[i] = forward_stepwise(predictors, cv='K_folds')\n",
    "    predictors = list(models_fwd_k_folds.loc[i,'predictors'])\n",
    "\n",
    "toc = time.time()\n",
    "print('Total elapsed time: {:.2f} seconds.'.format(toc-tic))"
   ]
  },
  {
   "cell_type": "code",
   "execution_count": 18,
   "metadata": {},
   "outputs": [
    {
     "output_type": "execute_result",
     "data": {
      "text/plain": [
       "                                           predictors            MSE\n",
       "1                                               [RBI]  145521.346714\n",
       "2                                       [RBI, CAtBat]  115736.924844\n",
       "3                                 [RBI, CAtBat, Hits]  108384.344684\n",
       "4                    [RBI, CAtBat, Hits, NewLeague_N]  105592.042809\n",
       "5             [RBI, CAtBat, Hits, NewLeague_N, Walks]   92774.700043\n",
       "6      [RBI, CAtBat, Hits, NewLeague_N, Walks, CRuns]  105607.889171\n",
       "7   [RBI, CAtBat, Hits, NewLeague_N, Walks, CRuns,...  113619.303878\n",
       "8   [RBI, CAtBat, Hits, NewLeague_N, Walks, CRuns,...  110642.639631\n",
       "9   [RBI, CAtBat, Hits, NewLeague_N, Walks, CRuns,...  109138.190078\n",
       "10  [RBI, CAtBat, Hits, NewLeague_N, Walks, CRuns,...  118189.124296\n",
       "11  [RBI, CAtBat, Hits, NewLeague_N, Walks, CRuns,...  118112.618098\n",
       "12  [RBI, CAtBat, Hits, NewLeague_N, Walks, CRuns,...  110402.695572\n",
       "13  [RBI, CAtBat, Hits, NewLeague_N, Walks, CRuns,...  114786.364633\n",
       "14  [RBI, CAtBat, Hits, NewLeague_N, Walks, CRuns,...  121262.927909\n",
       "15  [RBI, CAtBat, Hits, NewLeague_N, Walks, CRuns,...  116007.680243\n",
       "16  [RBI, CAtBat, Hits, NewLeague_N, Walks, CRuns,...  111303.280605\n",
       "17  [RBI, CAtBat, Hits, NewLeague_N, Walks, CRuns,...  116048.716222\n",
       "18  [RBI, CAtBat, Hits, NewLeague_N, Walks, CRuns,...  102992.081111\n",
       "19  [RBI, CAtBat, Hits, NewLeague_N, Walks, CRuns,...  128069.068959"
      ],
      "text/html": "<div>\n<style scoped>\n    .dataframe tbody tr th:only-of-type {\n        vertical-align: middle;\n    }\n\n    .dataframe tbody tr th {\n        vertical-align: top;\n    }\n\n    .dataframe thead th {\n        text-align: right;\n    }\n</style>\n<table border=\"1\" class=\"dataframe\">\n  <thead>\n    <tr style=\"text-align: right;\">\n      <th></th>\n      <th>predictors</th>\n      <th>MSE</th>\n    </tr>\n  </thead>\n  <tbody>\n    <tr>\n      <th>1</th>\n      <td>[RBI]</td>\n      <td>145521.346714</td>\n    </tr>\n    <tr>\n      <th>2</th>\n      <td>[RBI, CAtBat]</td>\n      <td>115736.924844</td>\n    </tr>\n    <tr>\n      <th>3</th>\n      <td>[RBI, CAtBat, Hits]</td>\n      <td>108384.344684</td>\n    </tr>\n    <tr>\n      <th>4</th>\n      <td>[RBI, CAtBat, Hits, NewLeague_N]</td>\n      <td>105592.042809</td>\n    </tr>\n    <tr>\n      <th>5</th>\n      <td>[RBI, CAtBat, Hits, NewLeague_N, Walks]</td>\n      <td>92774.700043</td>\n    </tr>\n    <tr>\n      <th>6</th>\n      <td>[RBI, CAtBat, Hits, NewLeague_N, Walks, CRuns]</td>\n      <td>105607.889171</td>\n    </tr>\n    <tr>\n      <th>7</th>\n      <td>[RBI, CAtBat, Hits, NewLeague_N, Walks, CRuns,...</td>\n      <td>113619.303878</td>\n    </tr>\n    <tr>\n      <th>8</th>\n      <td>[RBI, CAtBat, Hits, NewLeague_N, Walks, CRuns,...</td>\n      <td>110642.639631</td>\n    </tr>\n    <tr>\n      <th>9</th>\n      <td>[RBI, CAtBat, Hits, NewLeague_N, Walks, CRuns,...</td>\n      <td>109138.190078</td>\n    </tr>\n    <tr>\n      <th>10</th>\n      <td>[RBI, CAtBat, Hits, NewLeague_N, Walks, CRuns,...</td>\n      <td>118189.124296</td>\n    </tr>\n    <tr>\n      <th>11</th>\n      <td>[RBI, CAtBat, Hits, NewLeague_N, Walks, CRuns,...</td>\n      <td>118112.618098</td>\n    </tr>\n    <tr>\n      <th>12</th>\n      <td>[RBI, CAtBat, Hits, NewLeague_N, Walks, CRuns,...</td>\n      <td>110402.695572</td>\n    </tr>\n    <tr>\n      <th>13</th>\n      <td>[RBI, CAtBat, Hits, NewLeague_N, Walks, CRuns,...</td>\n      <td>114786.364633</td>\n    </tr>\n    <tr>\n      <th>14</th>\n      <td>[RBI, CAtBat, Hits, NewLeague_N, Walks, CRuns,...</td>\n      <td>121262.927909</td>\n    </tr>\n    <tr>\n      <th>15</th>\n      <td>[RBI, CAtBat, Hits, NewLeague_N, Walks, CRuns,...</td>\n      <td>116007.680243</td>\n    </tr>\n    <tr>\n      <th>16</th>\n      <td>[RBI, CAtBat, Hits, NewLeague_N, Walks, CRuns,...</td>\n      <td>111303.280605</td>\n    </tr>\n    <tr>\n      <th>17</th>\n      <td>[RBI, CAtBat, Hits, NewLeague_N, Walks, CRuns,...</td>\n      <td>116048.716222</td>\n    </tr>\n    <tr>\n      <th>18</th>\n      <td>[RBI, CAtBat, Hits, NewLeague_N, Walks, CRuns,...</td>\n      <td>102992.081111</td>\n    </tr>\n    <tr>\n      <th>19</th>\n      <td>[RBI, CAtBat, Hits, NewLeague_N, Walks, CRuns,...</td>\n      <td>128069.068959</td>\n    </tr>\n  </tbody>\n</table>\n</div>"
     },
     "metadata": {},
     "execution_count": 18
    }
   ],
   "source": [
    "models_fwd_validation_set"
   ]
  },
  {
   "cell_type": "code",
   "execution_count": 19,
   "metadata": {},
   "outputs": [
    {
     "output_type": "execute_result",
     "data": {
      "text/plain": [
       "                                           predictors            MSE\n",
       "1                                              [CRBI]  142840.888022\n",
       "2                                        [CRBI, Hits]  124466.240992\n",
       "3                            [CRBI, Hits, Division_W]  119615.547260\n",
       "4                   [CRBI, Hits, Division_W, PutOuts]  114839.706281\n",
       "5            [CRBI, Hits, Division_W, PutOuts, AtBat]  112424.871657\n",
       "6     [CRBI, Hits, Division_W, PutOuts, AtBat, Walks]  108549.675150\n",
       "7   [CRBI, Hits, Division_W, PutOuts, AtBat, Walks...  108803.722368\n",
       "8   [CRBI, Hits, Division_W, PutOuts, AtBat, Walks...  108860.384940\n",
       "9   [CRBI, Hits, Division_W, PutOuts, AtBat, Walks...  106654.374078\n",
       "10  [CRBI, Hits, Division_W, PutOuts, AtBat, Walks...  107211.098023\n",
       "11  [CRBI, Hits, Division_W, PutOuts, AtBat, Walks...  107680.644314\n",
       "12  [CRBI, Hits, Division_W, PutOuts, AtBat, Walks...  108310.975132\n",
       "13  [CRBI, Hits, Division_W, PutOuts, AtBat, Walks...  108987.014947\n",
       "14  [CRBI, Hits, Division_W, PutOuts, AtBat, Walks...  109812.673899\n",
       "15  [CRBI, Hits, Division_W, PutOuts, AtBat, Walks...  110463.634702\n",
       "16  [CRBI, Hits, Division_W, PutOuts, AtBat, Walks...  111421.815540\n",
       "17  [CRBI, Hits, Division_W, PutOuts, AtBat, Walks...  112986.927921\n",
       "18  [CRBI, Hits, Division_W, PutOuts, AtBat, Walks...  114637.210275\n",
       "19  [CRBI, Hits, Division_W, PutOuts, AtBat, Walks...  116599.013674"
      ],
      "text/html": "<div>\n<style scoped>\n    .dataframe tbody tr th:only-of-type {\n        vertical-align: middle;\n    }\n\n    .dataframe tbody tr th {\n        vertical-align: top;\n    }\n\n    .dataframe thead th {\n        text-align: right;\n    }\n</style>\n<table border=\"1\" class=\"dataframe\">\n  <thead>\n    <tr style=\"text-align: right;\">\n      <th></th>\n      <th>predictors</th>\n      <th>MSE</th>\n    </tr>\n  </thead>\n  <tbody>\n    <tr>\n      <th>1</th>\n      <td>[CRBI]</td>\n      <td>142840.888022</td>\n    </tr>\n    <tr>\n      <th>2</th>\n      <td>[CRBI, Hits]</td>\n      <td>124466.240992</td>\n    </tr>\n    <tr>\n      <th>3</th>\n      <td>[CRBI, Hits, Division_W]</td>\n      <td>119615.547260</td>\n    </tr>\n    <tr>\n      <th>4</th>\n      <td>[CRBI, Hits, Division_W, PutOuts]</td>\n      <td>114839.706281</td>\n    </tr>\n    <tr>\n      <th>5</th>\n      <td>[CRBI, Hits, Division_W, PutOuts, AtBat]</td>\n      <td>112424.871657</td>\n    </tr>\n    <tr>\n      <th>6</th>\n      <td>[CRBI, Hits, Division_W, PutOuts, AtBat, Walks]</td>\n      <td>108549.675150</td>\n    </tr>\n    <tr>\n      <th>7</th>\n      <td>[CRBI, Hits, Division_W, PutOuts, AtBat, Walks...</td>\n      <td>108803.722368</td>\n    </tr>\n    <tr>\n      <th>8</th>\n      <td>[CRBI, Hits, Division_W, PutOuts, AtBat, Walks...</td>\n      <td>108860.384940</td>\n    </tr>\n    <tr>\n      <th>9</th>\n      <td>[CRBI, Hits, Division_W, PutOuts, AtBat, Walks...</td>\n      <td>106654.374078</td>\n    </tr>\n    <tr>\n      <th>10</th>\n      <td>[CRBI, Hits, Division_W, PutOuts, AtBat, Walks...</td>\n      <td>107211.098023</td>\n    </tr>\n    <tr>\n      <th>11</th>\n      <td>[CRBI, Hits, Division_W, PutOuts, AtBat, Walks...</td>\n      <td>107680.644314</td>\n    </tr>\n    <tr>\n      <th>12</th>\n      <td>[CRBI, Hits, Division_W, PutOuts, AtBat, Walks...</td>\n      <td>108310.975132</td>\n    </tr>\n    <tr>\n      <th>13</th>\n      <td>[CRBI, Hits, Division_W, PutOuts, AtBat, Walks...</td>\n      <td>108987.014947</td>\n    </tr>\n    <tr>\n      <th>14</th>\n      <td>[CRBI, Hits, Division_W, PutOuts, AtBat, Walks...</td>\n      <td>109812.673899</td>\n    </tr>\n    <tr>\n      <th>15</th>\n      <td>[CRBI, Hits, Division_W, PutOuts, AtBat, Walks...</td>\n      <td>110463.634702</td>\n    </tr>\n    <tr>\n      <th>16</th>\n      <td>[CRBI, Hits, Division_W, PutOuts, AtBat, Walks...</td>\n      <td>111421.815540</td>\n    </tr>\n    <tr>\n      <th>17</th>\n      <td>[CRBI, Hits, Division_W, PutOuts, AtBat, Walks...</td>\n      <td>112986.927921</td>\n    </tr>\n    <tr>\n      <th>18</th>\n      <td>[CRBI, Hits, Division_W, PutOuts, AtBat, Walks...</td>\n      <td>114637.210275</td>\n    </tr>\n    <tr>\n      <th>19</th>\n      <td>[CRBI, Hits, Division_W, PutOuts, AtBat, Walks...</td>\n      <td>116599.013674</td>\n    </tr>\n  </tbody>\n</table>\n</div>"
     },
     "metadata": {},
     "execution_count": 19
    }
   ],
   "source": [
    "models_fwd_k_folds"
   ]
  },
  {
   "cell_type": "code",
   "execution_count": 20,
   "metadata": {},
   "outputs": [],
   "source": [
    "# Perform Backward Stepwise selection\n",
    "def backward_stepwise(predictors, i, cv='Validation_set'):\n",
    "    \n",
    "    tic = time.time()\n",
    "\n",
    "    results = []\n",
    "\n",
    "    if cv=='K_folds':\n",
    "        for p in itertools.combinations(predictors, i):\n",
    "            results.append(process_subset_k_folds(p, X, y, k=10))\n",
    "    else:\n",
    "        for p in itertools.combinations(predictors, i):\n",
    "            results.append(process_subset_validation_set_n_times(p, X, y, n=10))\n",
    "\n",
    "    models = pd.DataFrame(results)\n",
    "\n",
    "    best_model = models.loc[models['MSE'].argmin()]\n",
    "\n",
    "    toc = time.time()\n",
    "\n",
    "    print('Processed {:3} models on {:2} predictors in {:5.2f} seconds.'.format(models.shape[0], i, (toc-tic)))\n",
    "    \n",
    "    return best_model"
   ]
  },
  {
   "cell_type": "code",
   "execution_count": 21,
   "metadata": {},
   "outputs": [
    {
     "output_type": "stream",
     "name": "stdout",
     "text": [
      "Processed   1 models on 19 predictors in  0.12 seconds.\n",
      "Processed  19 models on 18 predictors in  1.43 seconds.\n",
      "Processed  18 models on 17 predictors in  1.29 seconds.\n",
      "Processed  17 models on 16 predictors in  1.21 seconds.\n",
      "Processed  16 models on 15 predictors in  1.10 seconds.\n",
      "Processed  15 models on 14 predictors in  1.02 seconds.\n",
      "Processed  14 models on 13 predictors in  0.92 seconds.\n",
      "Processed  13 models on 12 predictors in  0.85 seconds.\n",
      "Processed  12 models on 11 predictors in  0.75 seconds.\n",
      "Processed  11 models on 10 predictors in  0.67 seconds.\n",
      "Processed  10 models on  9 predictors in  0.61 seconds.\n",
      "Processed   9 models on  8 predictors in  0.52 seconds.\n",
      "Processed   8 models on  7 predictors in  0.45 seconds.\n",
      "Processed   7 models on  6 predictors in  0.38 seconds.\n",
      "Processed   6 models on  5 predictors in  0.33 seconds.\n",
      "Processed   5 models on  4 predictors in  0.26 seconds.\n",
      "Processed   4 models on  3 predictors in  0.19 seconds.\n",
      "Processed   3 models on  2 predictors in  0.15 seconds.\n",
      "Processed   2 models on  1 predictors in  0.09 seconds.\n",
      "Total elapsed time: 12.39 seconds.\n"
     ]
    }
   ],
   "source": [
    "models_bwd_validation_set = pd.DataFrame(columns=['predictors','MSE'])\n",
    "\n",
    "tic = time.time()\n",
    "predictors = X.columns\n",
    "\n",
    "for i in range(len(X.columns), 0, -1):\n",
    "    models_bwd_validation_set.loc[i] = backward_stepwise(predictors, i, cv='Validation_set')\n",
    "    predictors = list(models_bwd_validation_set.loc[i]['predictors'])\n",
    "\n",
    "toc = time.time()\n",
    "print('Total elapsed time: {:.2f} seconds.'.format(toc-tic))"
   ]
  },
  {
   "cell_type": "code",
   "execution_count": 22,
   "metadata": {},
   "outputs": [
    {
     "output_type": "stream",
     "name": "stdout",
     "text": [
      "Processed   1 models on 19 predictors in  0.09 seconds.\n",
      "Processed  19 models on 18 predictors in  1.39 seconds.\n",
      "Processed  18 models on 17 predictors in  1.28 seconds.\n",
      "Processed  17 models on 16 predictors in  1.19 seconds.\n",
      "Processed  16 models on 15 predictors in  1.10 seconds.\n",
      "Processed  15 models on 14 predictors in  1.01 seconds.\n",
      "Processed  14 models on 13 predictors in  0.91 seconds.\n",
      "Processed  13 models on 12 predictors in  0.83 seconds.\n",
      "Processed  12 models on 11 predictors in  0.73 seconds.\n",
      "Processed  11 models on 10 predictors in  0.66 seconds.\n",
      "Processed  10 models on  9 predictors in  0.59 seconds.\n",
      "Processed   9 models on  8 predictors in  0.51 seconds.\n",
      "Processed   8 models on  7 predictors in  0.46 seconds.\n",
      "Processed   7 models on  6 predictors in  0.39 seconds.\n",
      "Processed   6 models on  5 predictors in  0.33 seconds.\n",
      "Processed   5 models on  4 predictors in  0.25 seconds.\n",
      "Processed   4 models on  3 predictors in  0.21 seconds.\n",
      "Processed   3 models on  2 predictors in  0.14 seconds.\n",
      "Processed   2 models on  1 predictors in  0.09 seconds.\n",
      "Total elapsed time: 12.22 seconds.\n"
     ]
    }
   ],
   "source": [
    "models_bwd_k_folds = pd.DataFrame(columns=['predictors','MSE'])\n",
    "\n",
    "tic = time.time()\n",
    "predictors = X.columns\n",
    "\n",
    "for i in range(len(X.columns), 0, -1):\n",
    "    models_bwd_k_folds.loc[i] = backward_stepwise(predictors, i, cv='K_folds')\n",
    "    predictors = list(models_bwd_k_folds.loc[i]['predictors'])\n",
    "\n",
    "toc = time.time()\n",
    "print('Total elapsed time: {:.2f} seconds.'.format(toc-tic))"
   ]
  },
  {
   "cell_type": "code",
   "execution_count": 23,
   "metadata": {},
   "outputs": [
    {
     "output_type": "execute_result",
     "data": {
      "text/plain": [
       "                                           predictors            MSE\n",
       "19  (AtBat, Hits, HmRun, Runs, RBI, Walks, Years, ...  122730.774470\n",
       "18  (AtBat, Hits, HmRun, Runs, RBI, Walks, Years, ...  112178.919557\n",
       "17  (AtBat, Hits, HmRun, RBI, Walks, Years, CAtBat...  103306.440714\n",
       "16  (AtBat, Hits, HmRun, RBI, Walks, Years, CAtBat...   99326.828925\n",
       "15  (AtBat, Hits, HmRun, RBI, Walks, Years, CHits,...   99905.988043\n",
       "14  (AtBat, Hits, HmRun, RBI, Walks, Years, CHits,...   99838.686522\n",
       "13  (AtBat, Hits, HmRun, RBI, Walks, Years, CHits,...   93689.193874\n",
       "12  (AtBat, Hits, HmRun, RBI, Walks, CHits, CRBI, ...  100999.442676\n",
       "11  (AtBat, Hits, HmRun, RBI, Walks, CRBI, CWalks,...  101193.635335\n",
       "10  (AtBat, Hits, HmRun, Walks, CRBI, CWalks, PutO...  101540.355674\n",
       "9   (AtBat, Hits, Walks, CRBI, CWalks, PutOuts, As...   86259.175287\n",
       "8   (AtBat, Hits, Walks, CRBI, CWalks, PutOuts, As...  102802.339828\n",
       "7   (AtBat, Hits, Walks, CRBI, CWalks, PutOuts, Di...  101990.482951\n",
       "6   (AtBat, Walks, CRBI, CWalks, PutOuts, Division_W)   98525.206635\n",
       "5          (Walks, CRBI, CWalks, PutOuts, Division_W)  106007.668631\n",
       "4                      (Walks, CRBI, CWalks, PutOuts)  117886.496052\n",
       "3                              (Walks, CRBI, PutOuts)  112320.349142\n",
       "2                                     (CRBI, PutOuts)  129931.010716\n",
       "1                                             (CRBI,)  141949.918273"
      ],
      "text/html": "<div>\n<style scoped>\n    .dataframe tbody tr th:only-of-type {\n        vertical-align: middle;\n    }\n\n    .dataframe tbody tr th {\n        vertical-align: top;\n    }\n\n    .dataframe thead th {\n        text-align: right;\n    }\n</style>\n<table border=\"1\" class=\"dataframe\">\n  <thead>\n    <tr style=\"text-align: right;\">\n      <th></th>\n      <th>predictors</th>\n      <th>MSE</th>\n    </tr>\n  </thead>\n  <tbody>\n    <tr>\n      <th>19</th>\n      <td>(AtBat, Hits, HmRun, Runs, RBI, Walks, Years, ...</td>\n      <td>122730.774470</td>\n    </tr>\n    <tr>\n      <th>18</th>\n      <td>(AtBat, Hits, HmRun, Runs, RBI, Walks, Years, ...</td>\n      <td>112178.919557</td>\n    </tr>\n    <tr>\n      <th>17</th>\n      <td>(AtBat, Hits, HmRun, RBI, Walks, Years, CAtBat...</td>\n      <td>103306.440714</td>\n    </tr>\n    <tr>\n      <th>16</th>\n      <td>(AtBat, Hits, HmRun, RBI, Walks, Years, CAtBat...</td>\n      <td>99326.828925</td>\n    </tr>\n    <tr>\n      <th>15</th>\n      <td>(AtBat, Hits, HmRun, RBI, Walks, Years, CHits,...</td>\n      <td>99905.988043</td>\n    </tr>\n    <tr>\n      <th>14</th>\n      <td>(AtBat, Hits, HmRun, RBI, Walks, Years, CHits,...</td>\n      <td>99838.686522</td>\n    </tr>\n    <tr>\n      <th>13</th>\n      <td>(AtBat, Hits, HmRun, RBI, Walks, Years, CHits,...</td>\n      <td>93689.193874</td>\n    </tr>\n    <tr>\n      <th>12</th>\n      <td>(AtBat, Hits, HmRun, RBI, Walks, CHits, CRBI, ...</td>\n      <td>100999.442676</td>\n    </tr>\n    <tr>\n      <th>11</th>\n      <td>(AtBat, Hits, HmRun, RBI, Walks, CRBI, CWalks,...</td>\n      <td>101193.635335</td>\n    </tr>\n    <tr>\n      <th>10</th>\n      <td>(AtBat, Hits, HmRun, Walks, CRBI, CWalks, PutO...</td>\n      <td>101540.355674</td>\n    </tr>\n    <tr>\n      <th>9</th>\n      <td>(AtBat, Hits, Walks, CRBI, CWalks, PutOuts, As...</td>\n      <td>86259.175287</td>\n    </tr>\n    <tr>\n      <th>8</th>\n      <td>(AtBat, Hits, Walks, CRBI, CWalks, PutOuts, As...</td>\n      <td>102802.339828</td>\n    </tr>\n    <tr>\n      <th>7</th>\n      <td>(AtBat, Hits, Walks, CRBI, CWalks, PutOuts, Di...</td>\n      <td>101990.482951</td>\n    </tr>\n    <tr>\n      <th>6</th>\n      <td>(AtBat, Walks, CRBI, CWalks, PutOuts, Division_W)</td>\n      <td>98525.206635</td>\n    </tr>\n    <tr>\n      <th>5</th>\n      <td>(Walks, CRBI, CWalks, PutOuts, Division_W)</td>\n      <td>106007.668631</td>\n    </tr>\n    <tr>\n      <th>4</th>\n      <td>(Walks, CRBI, CWalks, PutOuts)</td>\n      <td>117886.496052</td>\n    </tr>\n    <tr>\n      <th>3</th>\n      <td>(Walks, CRBI, PutOuts)</td>\n      <td>112320.349142</td>\n    </tr>\n    <tr>\n      <th>2</th>\n      <td>(CRBI, PutOuts)</td>\n      <td>129931.010716</td>\n    </tr>\n    <tr>\n      <th>1</th>\n      <td>(CRBI,)</td>\n      <td>141949.918273</td>\n    </tr>\n  </tbody>\n</table>\n</div>"
     },
     "metadata": {},
     "execution_count": 23
    }
   ],
   "source": [
    "models_bwd_validation_set"
   ]
  },
  {
   "cell_type": "code",
   "execution_count": 24,
   "metadata": {},
   "outputs": [
    {
     "output_type": "execute_result",
     "data": {
      "text/plain": [
       "                                           predictors            MSE\n",
       "19  (AtBat, Hits, HmRun, Runs, RBI, Walks, Years, ...  116599.013674\n",
       "18  (AtBat, Hits, HmRun, Runs, RBI, Walks, Years, ...  114637.210275\n",
       "17  (AtBat, Hits, HmRun, Runs, RBI, Walks, Years, ...  112986.927921\n",
       "16  (AtBat, Hits, HmRun, Runs, Walks, Years, CAtBa...  111421.815540\n",
       "15  (AtBat, Hits, HmRun, Runs, Walks, CAtBat, CHmR...  110155.150976\n",
       "14  (AtBat, Hits, HmRun, Runs, Walks, CAtBat, CRun...  109272.004283\n",
       "13  (AtBat, Hits, HmRun, Runs, Walks, CAtBat, CRun...  108570.674432\n",
       "12  (AtBat, Hits, Runs, Walks, CAtBat, CRuns, CRBI...  107998.046793\n",
       "11  (AtBat, Hits, Walks, CAtBat, CRuns, CRBI, CWal...  107289.620703\n",
       "10  (AtBat, Hits, Walks, CAtBat, CRuns, CRBI, CWal...  106738.032067\n",
       "9   (AtBat, Hits, Walks, CAtBat, CRuns, CRBI, CWal...  106618.881999\n",
       "8   (AtBat, Hits, Walks, CRuns, CRBI, CWalks, PutO...  107458.440564\n",
       "7   (AtBat, Hits, Walks, CRuns, CRBI, PutOuts, Div...  109805.027756\n",
       "6     (AtBat, Hits, Walks, CRBI, PutOuts, Division_W)  108549.675150\n",
       "5                 (AtBat, Hits, Walks, CRBI, PutOuts)  112340.754784\n",
       "4                        (AtBat, Hits, CRBI, PutOuts)  116723.518363\n",
       "3                               (Hits, CRBI, PutOuts)  119812.512799\n",
       "2                                        (Hits, CRBI)  124466.240992\n",
       "1                                             (CRBI,)  142840.888022"
      ],
      "text/html": "<div>\n<style scoped>\n    .dataframe tbody tr th:only-of-type {\n        vertical-align: middle;\n    }\n\n    .dataframe tbody tr th {\n        vertical-align: top;\n    }\n\n    .dataframe thead th {\n        text-align: right;\n    }\n</style>\n<table border=\"1\" class=\"dataframe\">\n  <thead>\n    <tr style=\"text-align: right;\">\n      <th></th>\n      <th>predictors</th>\n      <th>MSE</th>\n    </tr>\n  </thead>\n  <tbody>\n    <tr>\n      <th>19</th>\n      <td>(AtBat, Hits, HmRun, Runs, RBI, Walks, Years, ...</td>\n      <td>116599.013674</td>\n    </tr>\n    <tr>\n      <th>18</th>\n      <td>(AtBat, Hits, HmRun, Runs, RBI, Walks, Years, ...</td>\n      <td>114637.210275</td>\n    </tr>\n    <tr>\n      <th>17</th>\n      <td>(AtBat, Hits, HmRun, Runs, RBI, Walks, Years, ...</td>\n      <td>112986.927921</td>\n    </tr>\n    <tr>\n      <th>16</th>\n      <td>(AtBat, Hits, HmRun, Runs, Walks, Years, CAtBa...</td>\n      <td>111421.815540</td>\n    </tr>\n    <tr>\n      <th>15</th>\n      <td>(AtBat, Hits, HmRun, Runs, Walks, CAtBat, CHmR...</td>\n      <td>110155.150976</td>\n    </tr>\n    <tr>\n      <th>14</th>\n      <td>(AtBat, Hits, HmRun, Runs, Walks, CAtBat, CRun...</td>\n      <td>109272.004283</td>\n    </tr>\n    <tr>\n      <th>13</th>\n      <td>(AtBat, Hits, HmRun, Runs, Walks, CAtBat, CRun...</td>\n      <td>108570.674432</td>\n    </tr>\n    <tr>\n      <th>12</th>\n      <td>(AtBat, Hits, Runs, Walks, CAtBat, CRuns, CRBI...</td>\n      <td>107998.046793</td>\n    </tr>\n    <tr>\n      <th>11</th>\n      <td>(AtBat, Hits, Walks, CAtBat, CRuns, CRBI, CWal...</td>\n      <td>107289.620703</td>\n    </tr>\n    <tr>\n      <th>10</th>\n      <td>(AtBat, Hits, Walks, CAtBat, CRuns, CRBI, CWal...</td>\n      <td>106738.032067</td>\n    </tr>\n    <tr>\n      <th>9</th>\n      <td>(AtBat, Hits, Walks, CAtBat, CRuns, CRBI, CWal...</td>\n      <td>106618.881999</td>\n    </tr>\n    <tr>\n      <th>8</th>\n      <td>(AtBat, Hits, Walks, CRuns, CRBI, CWalks, PutO...</td>\n      <td>107458.440564</td>\n    </tr>\n    <tr>\n      <th>7</th>\n      <td>(AtBat, Hits, Walks, CRuns, CRBI, PutOuts, Div...</td>\n      <td>109805.027756</td>\n    </tr>\n    <tr>\n      <th>6</th>\n      <td>(AtBat, Hits, Walks, CRBI, PutOuts, Division_W)</td>\n      <td>108549.675150</td>\n    </tr>\n    <tr>\n      <th>5</th>\n      <td>(AtBat, Hits, Walks, CRBI, PutOuts)</td>\n      <td>112340.754784</td>\n    </tr>\n    <tr>\n      <th>4</th>\n      <td>(AtBat, Hits, CRBI, PutOuts)</td>\n      <td>116723.518363</td>\n    </tr>\n    <tr>\n      <th>3</th>\n      <td>(Hits, CRBI, PutOuts)</td>\n      <td>119812.512799</td>\n    </tr>\n    <tr>\n      <th>2</th>\n      <td>(Hits, CRBI)</td>\n      <td>124466.240992</td>\n    </tr>\n    <tr>\n      <th>1</th>\n      <td>(CRBI,)</td>\n      <td>142840.888022</td>\n    </tr>\n  </tbody>\n</table>\n</div>"
     },
     "metadata": {},
     "execution_count": 24
    }
   ],
   "source": [
    "models_bwd_k_folds"
   ]
  },
  {
   "cell_type": "code",
   "execution_count": null,
   "metadata": {},
   "outputs": [],
   "source": []
  }
 ]
}